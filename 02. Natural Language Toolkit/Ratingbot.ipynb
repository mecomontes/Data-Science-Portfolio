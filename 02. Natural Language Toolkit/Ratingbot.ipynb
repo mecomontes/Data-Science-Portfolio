{
  "nbformat": 4,
  "nbformat_minor": 0,
  "metadata": {
    "colab": {
      "name": "Ratingbot.ipynb",
      "provenance": [],
      "collapsed_sections": []
    },
    "kernelspec": {
      "name": "python3",
      "display_name": "Python 3"
    },
    "language_info": {
      "name": "python"
    }
  },
  "cells": [
    {
      "cell_type": "markdown",
      "source": [
        "# NLTK: A Natural Language Toolkit"
      ],
      "metadata": {
        "id": "xjGG1IfEzn3r"
      }
    },
    {
      "cell_type": "code",
      "execution_count": 10,
      "metadata": {
        "colab": {
          "base_uri": "https://localhost:8080/"
        },
        "id": "n-idHyc5vyl3",
        "outputId": "5a60c5e7-2d50-43f2-bf24-1170a574e831"
      },
      "outputs": [
        {
          "output_type": "stream",
          "name": "stdout",
          "text": [
            "[nltk_data] Downloading package punkt to /root/nltk_data...\n",
            "[nltk_data]   Unzipping tokenizers/punkt.zip.\n"
          ]
        },
        {
          "output_type": "execute_result",
          "data": {
            "text/plain": [
              "True"
            ]
          },
          "metadata": {},
          "execution_count": 10
        }
      ],
      "source": [
        "from nltk import download, word_tokenize\n",
        "# download()\n",
        "download('punkt')"
      ]
    },
    {
      "cell_type": "markdown",
      "source": [
        "## Tokenize\n",
        "Using the word_tokenize method from nltk to tokenize the data in the input file. Symbols are included when it will be tokenized."
      ],
      "metadata": {
        "id": "p6QEUJ8Pz-Nw"
      }
    },
    {
      "cell_type": "code",
      "source": [
        "with open('/content/example.txt') as file:\n",
        "  raw_text = file.read()\n",
        "\n",
        "tokenized_text = word_tokenize(raw_text)\n",
        "tokenized_text"
      ],
      "metadata": {
        "colab": {
          "base_uri": "https://localhost:8080/"
        },
        "id": "lSBoSBwTwhSQ",
        "outputId": "bb11ebc6-14e5-4dd3-f019-ce37d52e23a0"
      },
      "execution_count": 12,
      "outputs": [
        {
          "output_type": "execute_result",
          "data": {
            "text/plain": [
              "['This',\n",
              " 'is',\n",
              " 'a',\n",
              " 'short',\n",
              " 'example',\n",
              " 'text',\n",
              " 'to',\n",
              " 'work',\n",
              " 'with',\n",
              " 'natural',\n",
              " 'languge',\n",
              " 'toolkit',\n",
              " '.',\n",
              " 'It',\n",
              " 'is',\n",
              " 'a',\n",
              " 'really',\n",
              " 'nice',\n",
              " 'toolkit',\n",
              " 'for',\n",
              " 'NLP',\n",
              " '.']"
            ]
          },
          "metadata": {},
          "execution_count": 12
        }
      ]
    },
    {
      "cell_type": "markdown",
      "source": [
        "## Vectorize\n",
        "Create a vector with all the different words in the data. get_feature_names ust extract the words, ut Symbols won't be included."
      ],
      "metadata": {
        "id": "K4-o79zC2EDE"
      }
    },
    {
      "cell_type": "code",
      "source": [
        "from sklearn.feature_extraction.text import CountVectorizer, TfidfTransformer\n",
        "\n",
        "vectorized_text = CountVectorizer()\n",
        "vectorized_text.fit(tokenized_text)\n",
        "vectorized_text.get_feature_names()"
      ],
      "metadata": {
        "colab": {
          "base_uri": "https://localhost:8080/"
        },
        "id": "f2SMR_zizcEj",
        "outputId": "615b593f-0a56-4258-f4fe-661c25939e46"
      },
      "execution_count": 24,
      "outputs": [
        {
          "output_type": "stream",
          "name": "stderr",
          "text": [
            "/usr/local/lib/python3.7/dist-packages/sklearn/utils/deprecation.py:87: FutureWarning: Function get_feature_names is deprecated; get_feature_names is deprecated in 1.0 and will be removed in 1.2. Please use get_feature_names_out instead.\n",
            "  warnings.warn(msg, category=FutureWarning)\n"
          ]
        },
        {
          "output_type": "execute_result",
          "data": {
            "text/plain": [
              "['example',\n",
              " 'for',\n",
              " 'is',\n",
              " 'it',\n",
              " 'languge',\n",
              " 'natural',\n",
              " 'nice',\n",
              " 'nlp',\n",
              " 'really',\n",
              " 'short',\n",
              " 'text',\n",
              " 'this',\n",
              " 'to',\n",
              " 'toolkit',\n",
              " 'with',\n",
              " 'work']"
            ]
          },
          "metadata": {},
          "execution_count": 24
        }
      ]
    },
    {
      "cell_type": "markdown",
      "source": [
        "## Encode the text\n",
        "vocabulary_ method is a way to encode the text. It returns a dictionary with a encoded value for each word.\n",
        "\n",
        "Example: [3 2 8 9] means \"it is really short\""
      ],
      "metadata": {
        "id": "uJvEGKaA4CLa"
      }
    },
    {
      "cell_type": "code",
      "source": [
        "vectorized_text.vocabulary_"
      ],
      "metadata": {
        "colab": {
          "base_uri": "https://localhost:8080/"
        },
        "id": "ec10kDTB348o",
        "outputId": "aef2f474-9230-4b33-a261-4b5e24b6c990"
      },
      "execution_count": 18,
      "outputs": [
        {
          "output_type": "execute_result",
          "data": {
            "text/plain": [
              "{'example': 0,\n",
              " 'for': 1,\n",
              " 'is': 2,\n",
              " 'it': 3,\n",
              " 'languge': 4,\n",
              " 'natural': 5,\n",
              " 'nice': 6,\n",
              " 'nlp': 7,\n",
              " 'really': 8,\n",
              " 'short': 9,\n",
              " 'text': 10,\n",
              " 'this': 11,\n",
              " 'to': 12,\n",
              " 'toolkit': 13,\n",
              " 'with': 14,\n",
              " 'work': 15}"
            ]
          },
          "metadata": {},
          "execution_count": 18
        }
      ]
    },
    {
      "cell_type": "markdown",
      "source": [
        "## Generate a One Hot Encoder for each value in the array based on the vocabulary dictionary"
      ],
      "metadata": {
        "id": "bvgQNKkX4Yv4"
      }
    },
    {
      "cell_type": "code",
      "source": [
        "X = vectorized_text.transform(tokenized_text)\n",
        "X.toarray()"
      ],
      "metadata": {
        "colab": {
          "base_uri": "https://localhost:8080/"
        },
        "id": "S8L39yni4Y7D",
        "outputId": "1e0ae1b4-f48c-4cb7-fa02-617a77e69448"
      },
      "execution_count": 22,
      "outputs": [
        {
          "output_type": "execute_result",
          "data": {
            "text/plain": [
              "array([[0, 0, 0, 0, 0, 0, 0, 0, 0, 0, 0, 1, 0, 0, 0, 0],\n",
              "       [0, 0, 1, 0, 0, 0, 0, 0, 0, 0, 0, 0, 0, 0, 0, 0],\n",
              "       [0, 0, 0, 0, 0, 0, 0, 0, 0, 0, 0, 0, 0, 0, 0, 0],\n",
              "       [0, 0, 0, 0, 0, 0, 0, 0, 0, 1, 0, 0, 0, 0, 0, 0],\n",
              "       [1, 0, 0, 0, 0, 0, 0, 0, 0, 0, 0, 0, 0, 0, 0, 0],\n",
              "       [0, 0, 0, 0, 0, 0, 0, 0, 0, 0, 1, 0, 0, 0, 0, 0],\n",
              "       [0, 0, 0, 0, 0, 0, 0, 0, 0, 0, 0, 0, 1, 0, 0, 0],\n",
              "       [0, 0, 0, 0, 0, 0, 0, 0, 0, 0, 0, 0, 0, 0, 0, 1],\n",
              "       [0, 0, 0, 0, 0, 0, 0, 0, 0, 0, 0, 0, 0, 0, 1, 0],\n",
              "       [0, 0, 0, 0, 0, 1, 0, 0, 0, 0, 0, 0, 0, 0, 0, 0],\n",
              "       [0, 0, 0, 0, 1, 0, 0, 0, 0, 0, 0, 0, 0, 0, 0, 0],\n",
              "       [0, 0, 0, 0, 0, 0, 0, 0, 0, 0, 0, 0, 0, 1, 0, 0],\n",
              "       [0, 0, 0, 0, 0, 0, 0, 0, 0, 0, 0, 0, 0, 0, 0, 0],\n",
              "       [0, 0, 0, 1, 0, 0, 0, 0, 0, 0, 0, 0, 0, 0, 0, 0],\n",
              "       [0, 0, 1, 0, 0, 0, 0, 0, 0, 0, 0, 0, 0, 0, 0, 0],\n",
              "       [0, 0, 0, 0, 0, 0, 0, 0, 0, 0, 0, 0, 0, 0, 0, 0],\n",
              "       [0, 0, 0, 0, 0, 0, 0, 0, 1, 0, 0, 0, 0, 0, 0, 0],\n",
              "       [0, 0, 0, 0, 0, 0, 1, 0, 0, 0, 0, 0, 0, 0, 0, 0],\n",
              "       [0, 0, 0, 0, 0, 0, 0, 0, 0, 0, 0, 0, 0, 1, 0, 0],\n",
              "       [0, 1, 0, 0, 0, 0, 0, 0, 0, 0, 0, 0, 0, 0, 0, 0],\n",
              "       [0, 0, 0, 0, 0, 0, 0, 1, 0, 0, 0, 0, 0, 0, 0, 0],\n",
              "       [0, 0, 0, 0, 0, 0, 0, 0, 0, 0, 0, 0, 0, 0, 0, 0]])"
            ]
          },
          "metadata": {},
          "execution_count": 22
        }
      ]
    },
    {
      "cell_type": "markdown",
      "source": [
        "## TfidF\n",
        "\n",
        "Transform a count matrix to a normalized tf or tf-idf representation.\n",
        "\n",
        "Tf means term-frequency while tf-idf means term-frequency times inverse document-frequency. This is a common term weighting scheme in information retrieval, that has also found good use in document classification.\n",
        "\n",
        "The goal of using tf-idf instead of the raw frequencies of occurrence of a token in a given document is to scale down the impact of tokens that occur very frequently in a given corpus and that are hence empirically less informative than features that occur in a small fraction of the training corpus.\n",
        "\n",
        "The formula that is used to compute the tf-idf for a term t of a document d in a document set is tf-idf(t, d) = tf(t, d) * idf(t), and the idf is computed as idf(t) = log [ n / df(t) ] + 1 (if smooth_idf=False), where n is the total number of documents in the document set and df(t) is the document frequency of t; the document frequency is the number of documents in the document set that contain the term t. The effect of adding “1” to the idf in the equation above is that terms with zero idf, i.e., terms that occur in all documents in a training set, will not be entirely ignored. (Note that the idf formula above differs from the standard textbook notation that defines the idf as idf(t) = log [ n / (df(t) + 1) ]).\n",
        "\n",
        "If smooth_idf=True (the default), the constant “1” is added to the numerator and denominator of the idf as if an extra document was seen containing every term in the collection exactly once, which prevents zero divisions: idf(t) = log [ (1 + n) / (1 + df(t)) ] + 1.\n",
        "\n",
        "Furthermore, the formulas used to compute tf and idf depend on parameter settings that correspond to the SMART notation used in IR as follows:\n",
        "\n",
        "Tf is “n” (natural) by default, “l” (logarithmic) when sublinear_tf=True. Idf is “t” when use_idf is given, “n” (none) otherwise. Normalization is “c” (cosine) when norm='l2', “n” (none) when norm=None."
      ],
      "metadata": {
        "id": "uEGCWz2qAPYm"
      }
    },
    {
      "cell_type": "code",
      "source": [
        "tfidf = TfidfTransformer()\n",
        "tfidf.fit(X)"
      ],
      "metadata": {
        "colab": {
          "base_uri": "https://localhost:8080/"
        },
        "id": "GICBTiaG4ZiC",
        "outputId": "d2d2af37-f856-493a-ea97-79effd00f1e6"
      },
      "execution_count": 25,
      "outputs": [
        {
          "output_type": "execute_result",
          "data": {
            "text/plain": [
              "TfidfTransformer()"
            ]
          },
          "metadata": {},
          "execution_count": 25
        }
      ]
    },
    {
      "cell_type": "code",
      "source": [
        "tfidf_text = tfidf.transform(X)\n",
        "tfidf_text"
      ],
      "metadata": {
        "colab": {
          "base_uri": "https://localhost:8080/"
        },
        "id": "2mow-MU1Az4m",
        "outputId": "32c73884-1a67-4584-bf37-215f4f5fe4b0"
      },
      "execution_count": 27,
      "outputs": [
        {
          "output_type": "execute_result",
          "data": {
            "text/plain": [
              "<22x16 sparse matrix of type '<class 'numpy.float64'>'\n",
              "\twith 18 stored elements in Compressed Sparse Row format>"
            ]
          },
          "metadata": {},
          "execution_count": 27
        }
      ]
    },
    {
      "cell_type": "markdown",
      "source": [
        "## Rating bot"
      ],
      "metadata": {
        "id": "9OMk4K1XGmSK"
      }
    },
    {
      "cell_type": "code",
      "source": [
        "import pandas as pd\n",
        "from sklearn.feature_extraction.text import CountVectorizer, TfidfTransformer\n",
        "\n",
        "df = pd.read_csv('/content/reviews.csv')\n",
        "df.head(20)"
      ],
      "metadata": {
        "colab": {
          "base_uri": "https://localhost:8080/",
          "height": 677
        },
        "id": "6NKNTejWGpzM",
        "outputId": "407baf8b-bfde-418a-b5e6-acfb56a39c3c"
      },
      "execution_count": 30,
      "outputs": [
        {
          "output_type": "execute_result",
          "data": {
            "text/plain": [
              "                                              Reviews   Rating\n",
              "0   The product is fairly good but it has scratche...  Average\n",
              "1                 Not same as told in the description     Poor\n",
              "2                              It is worth the money!     Good\n",
              "3                    Delivered product is not genuine     Poor\n",
              "4            I'm not satisifed with the build quality     Poor\n",
              "5       This is considerably good for the price range     Good\n",
              "6    The product is fine but the packaging isn't good  Average\n",
              "7                                      I am satisfied  Average\n",
              "8   Certainly a better version is availble but it ...  Average\n",
              "9                              The product is damaged     Poor\n",
              "10           I will recommend everyone to go for this     Good\n",
              "11                         It was not worth the money     Poor\n",
              "12          The product is a fake copy of the genuine     Poor\n",
              "13         Evrything is fine except for the packaging  Average\n",
              "14                   Does not come with warranty card     Poor\n",
              "15         The build quality is awesome for the price     Good\n",
              "16                             Cannot find any better     Good\n",
              "17                              Complete satisfactory     Good\n",
              "18     Packaging was torn off but the product is fine  Average\n",
              "19               This is not good for the price range     Poor"
            ],
            "text/html": [
              "\n",
              "  <div id=\"df-f0a326f7-fcf2-4aca-880c-fa008b6c65c9\">\n",
              "    <div class=\"colab-df-container\">\n",
              "      <div>\n",
              "<style scoped>\n",
              "    .dataframe tbody tr th:only-of-type {\n",
              "        vertical-align: middle;\n",
              "    }\n",
              "\n",
              "    .dataframe tbody tr th {\n",
              "        vertical-align: top;\n",
              "    }\n",
              "\n",
              "    .dataframe thead th {\n",
              "        text-align: right;\n",
              "    }\n",
              "</style>\n",
              "<table border=\"1\" class=\"dataframe\">\n",
              "  <thead>\n",
              "    <tr style=\"text-align: right;\">\n",
              "      <th></th>\n",
              "      <th>Reviews</th>\n",
              "      <th>Rating</th>\n",
              "    </tr>\n",
              "  </thead>\n",
              "  <tbody>\n",
              "    <tr>\n",
              "      <th>0</th>\n",
              "      <td>The product is fairly good but it has scratche...</td>\n",
              "      <td>Average</td>\n",
              "    </tr>\n",
              "    <tr>\n",
              "      <th>1</th>\n",
              "      <td>Not same as told in the description</td>\n",
              "      <td>Poor</td>\n",
              "    </tr>\n",
              "    <tr>\n",
              "      <th>2</th>\n",
              "      <td>It is worth the money!</td>\n",
              "      <td>Good</td>\n",
              "    </tr>\n",
              "    <tr>\n",
              "      <th>3</th>\n",
              "      <td>Delivered product is not genuine</td>\n",
              "      <td>Poor</td>\n",
              "    </tr>\n",
              "    <tr>\n",
              "      <th>4</th>\n",
              "      <td>I'm not satisifed with the build quality</td>\n",
              "      <td>Poor</td>\n",
              "    </tr>\n",
              "    <tr>\n",
              "      <th>5</th>\n",
              "      <td>This is considerably good for the price range</td>\n",
              "      <td>Good</td>\n",
              "    </tr>\n",
              "    <tr>\n",
              "      <th>6</th>\n",
              "      <td>The product is fine but the packaging isn't good</td>\n",
              "      <td>Average</td>\n",
              "    </tr>\n",
              "    <tr>\n",
              "      <th>7</th>\n",
              "      <td>I am satisfied</td>\n",
              "      <td>Average</td>\n",
              "    </tr>\n",
              "    <tr>\n",
              "      <th>8</th>\n",
              "      <td>Certainly a better version is availble but it ...</td>\n",
              "      <td>Average</td>\n",
              "    </tr>\n",
              "    <tr>\n",
              "      <th>9</th>\n",
              "      <td>The product is damaged</td>\n",
              "      <td>Poor</td>\n",
              "    </tr>\n",
              "    <tr>\n",
              "      <th>10</th>\n",
              "      <td>I will recommend everyone to go for this</td>\n",
              "      <td>Good</td>\n",
              "    </tr>\n",
              "    <tr>\n",
              "      <th>11</th>\n",
              "      <td>It was not worth the money</td>\n",
              "      <td>Poor</td>\n",
              "    </tr>\n",
              "    <tr>\n",
              "      <th>12</th>\n",
              "      <td>The product is a fake copy of the genuine</td>\n",
              "      <td>Poor</td>\n",
              "    </tr>\n",
              "    <tr>\n",
              "      <th>13</th>\n",
              "      <td>Evrything is fine except for the packaging</td>\n",
              "      <td>Average</td>\n",
              "    </tr>\n",
              "    <tr>\n",
              "      <th>14</th>\n",
              "      <td>Does not come with warranty card</td>\n",
              "      <td>Poor</td>\n",
              "    </tr>\n",
              "    <tr>\n",
              "      <th>15</th>\n",
              "      <td>The build quality is awesome for the price</td>\n",
              "      <td>Good</td>\n",
              "    </tr>\n",
              "    <tr>\n",
              "      <th>16</th>\n",
              "      <td>Cannot find any better</td>\n",
              "      <td>Good</td>\n",
              "    </tr>\n",
              "    <tr>\n",
              "      <th>17</th>\n",
              "      <td>Complete satisfactory</td>\n",
              "      <td>Good</td>\n",
              "    </tr>\n",
              "    <tr>\n",
              "      <th>18</th>\n",
              "      <td>Packaging was torn off but the product is fine</td>\n",
              "      <td>Average</td>\n",
              "    </tr>\n",
              "    <tr>\n",
              "      <th>19</th>\n",
              "      <td>This is not good for the price range</td>\n",
              "      <td>Poor</td>\n",
              "    </tr>\n",
              "  </tbody>\n",
              "</table>\n",
              "</div>\n",
              "      <button class=\"colab-df-convert\" onclick=\"convertToInteractive('df-f0a326f7-fcf2-4aca-880c-fa008b6c65c9')\"\n",
              "              title=\"Convert this dataframe to an interactive table.\"\n",
              "              style=\"display:none;\">\n",
              "        \n",
              "  <svg xmlns=\"http://www.w3.org/2000/svg\" height=\"24px\"viewBox=\"0 0 24 24\"\n",
              "       width=\"24px\">\n",
              "    <path d=\"M0 0h24v24H0V0z\" fill=\"none\"/>\n",
              "    <path d=\"M18.56 5.44l.94 2.06.94-2.06 2.06-.94-2.06-.94-.94-2.06-.94 2.06-2.06.94zm-11 1L8.5 8.5l.94-2.06 2.06-.94-2.06-.94L8.5 2.5l-.94 2.06-2.06.94zm10 10l.94 2.06.94-2.06 2.06-.94-2.06-.94-.94-2.06-.94 2.06-2.06.94z\"/><path d=\"M17.41 7.96l-1.37-1.37c-.4-.4-.92-.59-1.43-.59-.52 0-1.04.2-1.43.59L10.3 9.45l-7.72 7.72c-.78.78-.78 2.05 0 2.83L4 21.41c.39.39.9.59 1.41.59.51 0 1.02-.2 1.41-.59l7.78-7.78 2.81-2.81c.8-.78.8-2.07 0-2.86zM5.41 20L4 18.59l7.72-7.72 1.47 1.35L5.41 20z\"/>\n",
              "  </svg>\n",
              "      </button>\n",
              "      \n",
              "  <style>\n",
              "    .colab-df-container {\n",
              "      display:flex;\n",
              "      flex-wrap:wrap;\n",
              "      gap: 12px;\n",
              "    }\n",
              "\n",
              "    .colab-df-convert {\n",
              "      background-color: #E8F0FE;\n",
              "      border: none;\n",
              "      border-radius: 50%;\n",
              "      cursor: pointer;\n",
              "      display: none;\n",
              "      fill: #1967D2;\n",
              "      height: 32px;\n",
              "      padding: 0 0 0 0;\n",
              "      width: 32px;\n",
              "    }\n",
              "\n",
              "    .colab-df-convert:hover {\n",
              "      background-color: #E2EBFA;\n",
              "      box-shadow: 0px 1px 2px rgba(60, 64, 67, 0.3), 0px 1px 3px 1px rgba(60, 64, 67, 0.15);\n",
              "      fill: #174EA6;\n",
              "    }\n",
              "\n",
              "    [theme=dark] .colab-df-convert {\n",
              "      background-color: #3B4455;\n",
              "      fill: #D2E3FC;\n",
              "    }\n",
              "\n",
              "    [theme=dark] .colab-df-convert:hover {\n",
              "      background-color: #434B5C;\n",
              "      box-shadow: 0px 1px 3px 1px rgba(0, 0, 0, 0.15);\n",
              "      filter: drop-shadow(0px 1px 2px rgba(0, 0, 0, 0.3));\n",
              "      fill: #FFFFFF;\n",
              "    }\n",
              "  </style>\n",
              "\n",
              "      <script>\n",
              "        const buttonEl =\n",
              "          document.querySelector('#df-f0a326f7-fcf2-4aca-880c-fa008b6c65c9 button.colab-df-convert');\n",
              "        buttonEl.style.display =\n",
              "          google.colab.kernel.accessAllowed ? 'block' : 'none';\n",
              "\n",
              "        async function convertToInteractive(key) {\n",
              "          const element = document.querySelector('#df-f0a326f7-fcf2-4aca-880c-fa008b6c65c9');\n",
              "          const dataTable =\n",
              "            await google.colab.kernel.invokeFunction('convertToInteractive',\n",
              "                                                     [key], {});\n",
              "          if (!dataTable) return;\n",
              "\n",
              "          const docLinkHtml = 'Like what you see? Visit the ' +\n",
              "            '<a target=\"_blank\" href=https://colab.research.google.com/notebooks/data_table.ipynb>data table notebook</a>'\n",
              "            + ' to learn more about interactive tables.';\n",
              "          element.innerHTML = '';\n",
              "          dataTable['output_type'] = 'display_data';\n",
              "          await google.colab.output.renderOutput(dataTable, element);\n",
              "          const docLink = document.createElement('div');\n",
              "          docLink.innerHTML = docLinkHtml;\n",
              "          element.appendChild(docLink);\n",
              "        }\n",
              "      </script>\n",
              "    </div>\n",
              "  </div>\n",
              "  "
            ]
          },
          "metadata": {},
          "execution_count": 30
        }
      ]
    },
    {
      "cell_type": "code",
      "source": [
        "X = df['Reviews']\n",
        "vectorized_features = CountVectorizer()\n",
        "vectorized_features.fit(X)\n",
        "vectorized_X = vectorized_features.transform(X)\n",
        "vectorized_features.get_feature_names()"
      ],
      "metadata": {
        "colab": {
          "base_uri": "https://localhost:8080/"
        },
        "id": "y9RS2Q__HIkC",
        "outputId": "2b2d8551-6f8f-49d6-c7af-6e890b77996d"
      },
      "execution_count": 32,
      "outputs": [
        {
          "output_type": "stream",
          "name": "stderr",
          "text": [
            "/usr/local/lib/python3.7/dist-packages/sklearn/utils/deprecation.py:87: FutureWarning: Function get_feature_names is deprecated; get_feature_names is deprecated in 1.0 and will be removed in 1.2. Please use get_feature_names_out instead.\n",
            "  warnings.warn(msg, category=FutureWarning)\n"
          ]
        },
        {
          "output_type": "execute_result",
          "data": {
            "text/plain": [
              "['am',\n",
              " 'any',\n",
              " 'as',\n",
              " 'availble',\n",
              " 'awesome',\n",
              " 'better',\n",
              " 'box',\n",
              " 'build',\n",
              " 'but',\n",
              " 'cannot',\n",
              " 'card',\n",
              " 'certainly',\n",
              " 'come',\n",
              " 'complete',\n",
              " 'considerably',\n",
              " 'copy',\n",
              " 'damaged',\n",
              " 'delivered',\n",
              " 'description',\n",
              " 'does',\n",
              " 'everyone',\n",
              " 'evrything',\n",
              " 'except',\n",
              " 'fairly',\n",
              " 'fake',\n",
              " 'find',\n",
              " 'fine',\n",
              " 'for',\n",
              " 'genuine',\n",
              " 'go',\n",
              " 'good',\n",
              " 'has',\n",
              " 'in',\n",
              " 'is',\n",
              " 'isn',\n",
              " 'it',\n",
              " 'money',\n",
              " 'not',\n",
              " 'of',\n",
              " 'off',\n",
              " 'on',\n",
              " 'packaging',\n",
              " 'price',\n",
              " 'product',\n",
              " 'quality',\n",
              " 'range',\n",
              " 'recommend',\n",
              " 'same',\n",
              " 'satisfactory',\n",
              " 'satisfied',\n",
              " 'satisifed',\n",
              " 'scratches',\n",
              " 'the',\n",
              " 'this',\n",
              " 'to',\n",
              " 'told',\n",
              " 'torn',\n",
              " 'version',\n",
              " 'warranty',\n",
              " 'was',\n",
              " 'will',\n",
              " 'with',\n",
              " 'worth']"
            ]
          },
          "metadata": {},
          "execution_count": 32
        }
      ]
    },
    {
      "cell_type": "code",
      "source": [
        "tfidf = TfidfTransformer()\n",
        "tfidf.fit(vectorized_X)\n",
        "X_reviews = tfidf.transform(vectorized_X)\n",
        "X_reviews"
      ],
      "metadata": {
        "colab": {
          "base_uri": "https://localhost:8080/"
        },
        "id": "EMg5WaQsH526",
        "outputId": "d3bc01b7-dfa2-4590-c366-add06e7a1f6a"
      },
      "execution_count": 35,
      "outputs": [
        {
          "output_type": "execute_result",
          "data": {
            "text/plain": [
              "<20x63 sparse matrix of type '<class 'numpy.float64'>'\n",
              "\twith 127 stored elements in Compressed Sparse Row format>"
            ]
          },
          "metadata": {},
          "execution_count": 35
        }
      ]
    },
    {
      "cell_type": "code",
      "source": [
        "y = df['Rating'].tolist()\n",
        "y"
      ],
      "metadata": {
        "colab": {
          "base_uri": "https://localhost:8080/"
        },
        "id": "dkfHiS0TIhbU",
        "outputId": "95af08dd-1460-47a2-8492-597fb343c6ea"
      },
      "execution_count": 36,
      "outputs": [
        {
          "output_type": "execute_result",
          "data": {
            "text/plain": [
              "['Average',\n",
              " 'Poor',\n",
              " 'Good',\n",
              " 'Poor',\n",
              " 'Poor',\n",
              " 'Good',\n",
              " 'Average',\n",
              " 'Average',\n",
              " 'Average',\n",
              " 'Poor',\n",
              " 'Good',\n",
              " 'Poor',\n",
              " 'Poor',\n",
              " 'Average',\n",
              " 'Poor',\n",
              " 'Good',\n",
              " 'Good',\n",
              " 'Good',\n",
              " 'Average',\n",
              " 'Poor']"
            ]
          },
          "metadata": {},
          "execution_count": 36
        }
      ]
    },
    {
      "cell_type": "code",
      "source": [
        "from sklearn.tree import DecisionTreeClassifier\n",
        "\n",
        "model = DecisionTreeClassifier()\n",
        "model.fit(X_reviews, y)"
      ],
      "metadata": {
        "colab": {
          "base_uri": "https://localhost:8080/"
        },
        "id": "MukqGITHI6N3",
        "outputId": "5ad56c44-bbdb-4097-a11d-a546f0043d86"
      },
      "execution_count": 37,
      "outputs": [
        {
          "output_type": "execute_result",
          "data": {
            "text/plain": [
              "DecisionTreeClassifier()"
            ]
          },
          "metadata": {},
          "execution_count": 37
        }
      ]
    },
    {
      "cell_type": "code",
      "source": [
        "text = ['This product is in a good condition']\n",
        "vectorized_text = vectorized_features.transform(text)\n",
        "tfidf_text = tfidf.transform(vectorized_text)\n",
        "model.predict(tfidf_text)"
      ],
      "metadata": {
        "colab": {
          "base_uri": "https://localhost:8080/"
        },
        "id": "ZSMJr108JsOs",
        "outputId": "667e777f-556d-47e0-f266-2b06d0e2a82f"
      },
      "execution_count": 38,
      "outputs": [
        {
          "output_type": "execute_result",
          "data": {
            "text/plain": [
              "array(['Poor'], dtype='<U7')"
            ]
          },
          "metadata": {},
          "execution_count": 38
        }
      ]
    },
    {
      "cell_type": "markdown",
      "source": [
        "## Creating the function to rate reviews"
      ],
      "metadata": {
        "id": "wRxbZf8mKWd_"
      }
    },
    {
      "cell_type": "code",
      "source": [
        "def rate(*comment):\n",
        "  vectorized_text = vectorized_features.transform(comment)\n",
        "  tfidf_text = tfidf.transform(vectorized_text)\n",
        "  pred = model.predict(tfidf_text)\n",
        "\n",
        "  for review, rating in zip(comment, pred):\n",
        "    print(f'{review}\\n Rating: {rating}')"
      ],
      "metadata": {
        "id": "7OBYUavhKgmx"
      },
      "execution_count": 43,
      "outputs": []
    },
    {
      "cell_type": "code",
      "source": [
        "rate('Not in good condition', 'It is satisfactory', 'Too late')"
      ],
      "metadata": {
        "colab": {
          "base_uri": "https://localhost:8080/"
        },
        "id": "bTZF-3R9LUmu",
        "outputId": "765c1fff-166a-470c-be66-149e5b9c9eb5"
      },
      "execution_count": 44,
      "outputs": [
        {
          "output_type": "stream",
          "name": "stdout",
          "text": [
            "Not in good condition\n",
            " Rating: Poor\n",
            "It is satisfactory\n",
            " Rating: Good\n",
            "Too late\n",
            " Rating: Good\n"
          ]
        }
      ]
    }
  ]
}