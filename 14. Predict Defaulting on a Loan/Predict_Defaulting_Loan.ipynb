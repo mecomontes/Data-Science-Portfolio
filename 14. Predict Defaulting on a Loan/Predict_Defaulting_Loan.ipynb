{
  "nbformat": 4,
  "nbformat_minor": 0,
  "metadata": {
    "anaconda-cloud": {},
    "kernelspec": {
      "name": "python3",
      "display_name": "Python 3.8.3 64-bit ('base': conda)"
    },
    "language_info": {
      "codemirror_mode": {
        "name": "ipython",
        "version": 3
      },
      "file_extension": ".py",
      "mimetype": "text/x-python",
      "name": "python",
      "nbconvert_exporter": "python",
      "pygments_lexer": "ipython3",
      "version": "3.8.3"
    },
    "interpreter": {
      "hash": "b3ba2566441a7c06988d0923437866b63cedc61552a5af99d1f4fb67d367b25f"
    },
    "colab": {
      "name": "case_11_1_student_dev.ipynb",
      "provenance": [],
      "collapsed_sections": []
    }
  },
  "cells": [
    {
      "cell_type": "markdown",
      "metadata": {
        "id": "PmwTwW2HlSXc"
      },
      "source": [
        "# How can I compare different models that predict the probability of defaulting on a loan?"
      ]
    },
    {
      "cell_type": "code",
      "metadata": {
        "id": "KPpmOlyVlSXh"
      },
      "source": [
        "### Load relevant packages\n",
        "import pandas                  as pd\n",
        "import numpy                   as np\n",
        "import matplotlib.pyplot       as plt\n",
        "import seaborn                 as sns\n",
        "import os\n",
        "\n",
        "from scipy import stats\n",
        "\n",
        "%matplotlib inline\n",
        "plt.style.use('ggplot')\n",
        "\n",
        "import warnings\n",
        "warnings.filterwarnings('ignore')"
      ],
      "execution_count": null,
      "outputs": []
    },
    {
      "cell_type": "markdown",
      "metadata": {
        "id": "egCak2lElSXk"
      },
      "source": [
        "## Introduction (5 mts)\n",
        "\n",
        "**Business Context.** Traditional commercial banks typically did not rely on statistical modeling to decide whether personal loans should be issued, although this is changing rapidly nowadays. You are a data scientist working in a modern commercial bank. Your data science team has already built simple regression models for predicting the probability that those loans would be defaulted on. However, you have noticed that many of these models perform much worse in production than they do in testing.\n",
        "\n",
        "**Business Problem.** Your task is to **build a default probability model that you feel comfortable putting into production.**\n",
        "\n",
        "**Analytical Context.** The dataset contains the details of 5000 loans requests that have been previously issued by your bank. For each loan, the final status of the loan (i.e. whether the loan defaulted) is also available:\n",
        "\n",
        "1. The file **\"loan_light.csv\"** contains the details of 5000 loans\n",
        "2. The file **\"loan_param.xlsx\"** contains the description of each covariate\n",
        "\n",
        "The case will proceed as follows: you will 1) perform some data exploration to determine the appropriate variable transformations to make; 2) fit some simple models; 3) learn about **cross-validation** and use this to select the best simple model; and finally 4) responsibly construct more complex models using cross-validation."
      ]
    },
    {
      "cell_type": "markdown",
      "metadata": {
        "id": "VdQPWoFolSXl"
      },
      "source": [
        "## Data exploration (40 mts)\n",
        "\n",
        "Let's start by taking a look at the data:"
      ]
    },
    {
      "cell_type": "code",
      "metadata": {
        "id": "Qyhv31ATlSXn"
      },
      "source": [
        "Data = pd.read_csv(\"/content/loan_light.csv\")\n",
        "Data = Data.sample(frac=1)  #shuffle the rows"
      ],
      "execution_count": null,
      "outputs": []
    },
    {
      "cell_type": "code",
      "metadata": {
        "colab": {
          "base_uri": "https://localhost:8080/",
          "height": 244
        },
        "id": "erArhbj7lSXo",
        "outputId": "7ab5806c-2da7-4b65-fa6b-73a8d6e8e278"
      },
      "source": [
        "print(Data.shape)\n",
        "Data.head()"
      ],
      "execution_count": null,
      "outputs": [
        {
          "output_type": "stream",
          "text": [
            "(5000, 21)\n"
          ],
          "name": "stdout"
        },
        {
          "output_type": "execute_result",
          "data": {
            "text/html": [
              "<div>\n",
              "<style scoped>\n",
              "    .dataframe tbody tr th:only-of-type {\n",
              "        vertical-align: middle;\n",
              "    }\n",
              "\n",
              "    .dataframe tbody tr th {\n",
              "        vertical-align: top;\n",
              "    }\n",
              "\n",
              "    .dataframe thead th {\n",
              "        text-align: right;\n",
              "    }\n",
              "</style>\n",
              "<table border=\"1\" class=\"dataframe\">\n",
              "  <thead>\n",
              "    <tr style=\"text-align: right;\">\n",
              "      <th></th>\n",
              "      <th>annual_inc</th>\n",
              "      <th>application_type</th>\n",
              "      <th>avg_cur_bal</th>\n",
              "      <th>chargeoff_within_12_mths</th>\n",
              "      <th>delinq_2yrs</th>\n",
              "      <th>dti</th>\n",
              "      <th>emp_length</th>\n",
              "      <th>grade</th>\n",
              "      <th>inq_last_12m</th>\n",
              "      <th>installment</th>\n",
              "      <th>loan_amnt</th>\n",
              "      <th>num_actv_bc_tl</th>\n",
              "      <th>pub_rec_bankruptcies</th>\n",
              "      <th>home_ownership</th>\n",
              "      <th>term</th>\n",
              "      <th>mort_acc</th>\n",
              "      <th>num_tl_90g_dpd_24m</th>\n",
              "      <th>purpose</th>\n",
              "      <th>year</th>\n",
              "      <th>loan_default</th>\n",
              "      <th>job</th>\n",
              "    </tr>\n",
              "  </thead>\n",
              "  <tbody>\n",
              "    <tr>\n",
              "      <th>2790</th>\n",
              "      <td>38000.0</td>\n",
              "      <td>Individual</td>\n",
              "      <td>2375.0</td>\n",
              "      <td>0.0</td>\n",
              "      <td>0.0</td>\n",
              "      <td>12.19</td>\n",
              "      <td>1</td>\n",
              "      <td>C</td>\n",
              "      <td>1.0</td>\n",
              "      <td>601.36</td>\n",
              "      <td>17100</td>\n",
              "      <td>5.0</td>\n",
              "      <td>0.0</td>\n",
              "      <td>OWN</td>\n",
              "      <td>36</td>\n",
              "      <td>0.0</td>\n",
              "      <td>0.0</td>\n",
              "      <td>debt_consolidation</td>\n",
              "      <td>2017</td>\n",
              "      <td>1</td>\n",
              "      <td>other</td>\n",
              "    </tr>\n",
              "    <tr>\n",
              "      <th>1822</th>\n",
              "      <td>55000.0</td>\n",
              "      <td>Joint App</td>\n",
              "      <td>20371.0</td>\n",
              "      <td>0.0</td>\n",
              "      <td>0.0</td>\n",
              "      <td>21.19</td>\n",
              "      <td>1</td>\n",
              "      <td>C</td>\n",
              "      <td>1.0</td>\n",
              "      <td>586.45</td>\n",
              "      <td>17500</td>\n",
              "      <td>4.0</td>\n",
              "      <td>0.0</td>\n",
              "      <td>MORTGAGE</td>\n",
              "      <td>36</td>\n",
              "      <td>2.0</td>\n",
              "      <td>0.0</td>\n",
              "      <td>credit_card</td>\n",
              "      <td>2017</td>\n",
              "      <td>0</td>\n",
              "      <td>professor</td>\n",
              "    </tr>\n",
              "    <tr>\n",
              "      <th>2857</th>\n",
              "      <td>45000.0</td>\n",
              "      <td>Individual</td>\n",
              "      <td>2437.0</td>\n",
              "      <td>0.0</td>\n",
              "      <td>0.0</td>\n",
              "      <td>17.09</td>\n",
              "      <td>10</td>\n",
              "      <td>A</td>\n",
              "      <td>0.0</td>\n",
              "      <td>308.64</td>\n",
              "      <td>10000</td>\n",
              "      <td>2.0</td>\n",
              "      <td>0.0</td>\n",
              "      <td>RENT</td>\n",
              "      <td>36</td>\n",
              "      <td>0.0</td>\n",
              "      <td>0.0</td>\n",
              "      <td>credit_card</td>\n",
              "      <td>2016</td>\n",
              "      <td>0</td>\n",
              "      <td>teacher</td>\n",
              "    </tr>\n",
              "    <tr>\n",
              "      <th>4776</th>\n",
              "      <td>125000.0</td>\n",
              "      <td>Individual</td>\n",
              "      <td>10340.0</td>\n",
              "      <td>0.0</td>\n",
              "      <td>2.0</td>\n",
              "      <td>14.10</td>\n",
              "      <td>1</td>\n",
              "      <td>D</td>\n",
              "      <td>4.0</td>\n",
              "      <td>874.93</td>\n",
              "      <td>35000</td>\n",
              "      <td>2.0</td>\n",
              "      <td>0.0</td>\n",
              "      <td>MORTGAGE</td>\n",
              "      <td>60</td>\n",
              "      <td>3.0</td>\n",
              "      <td>0.0</td>\n",
              "      <td>debt_consolidation</td>\n",
              "      <td>2015</td>\n",
              "      <td>0</td>\n",
              "      <td>manager</td>\n",
              "    </tr>\n",
              "    <tr>\n",
              "      <th>4482</th>\n",
              "      <td>70000.0</td>\n",
              "      <td>Individual</td>\n",
              "      <td>2089.0</td>\n",
              "      <td>0.0</td>\n",
              "      <td>0.0</td>\n",
              "      <td>9.12</td>\n",
              "      <td>3</td>\n",
              "      <td>C</td>\n",
              "      <td>0.0</td>\n",
              "      <td>848.27</td>\n",
              "      <td>25000</td>\n",
              "      <td>4.0</td>\n",
              "      <td>0.0</td>\n",
              "      <td>RENT</td>\n",
              "      <td>36</td>\n",
              "      <td>0.0</td>\n",
              "      <td>0.0</td>\n",
              "      <td>debt_consolidation</td>\n",
              "      <td>2017</td>\n",
              "      <td>0</td>\n",
              "      <td>other</td>\n",
              "    </tr>\n",
              "  </tbody>\n",
              "</table>\n",
              "</div>"
            ],
            "text/plain": [
              "      annual_inc application_type  avg_cur_bal  ...  year  loan_default        job\n",
              "2790     38000.0       Individual       2375.0  ...  2017             1      other\n",
              "1822     55000.0        Joint App      20371.0  ...  2017             0  professor\n",
              "2857     45000.0       Individual       2437.0  ...  2016             0    teacher\n",
              "4776    125000.0       Individual      10340.0  ...  2015             0    manager\n",
              "4482     70000.0       Individual       2089.0  ...  2017             0      other\n",
              "\n",
              "[5 rows x 21 columns]"
            ]
          },
          "metadata": {},
          "execution_count": 8
        }
      ]
    },
    {
      "cell_type": "code",
      "metadata": {
        "colab": {
          "base_uri": "https://localhost:8080/"
        },
        "id": "4urIR3ValSXr",
        "outputId": "0854d41b-e96f-4534-de3d-1e8076aef35e"
      },
      "source": [
        "Data.keys()"
      ],
      "execution_count": null,
      "outputs": [
        {
          "output_type": "execute_result",
          "data": {
            "text/plain": [
              "Index(['annual_inc', 'application_type', 'avg_cur_bal',\n",
              "       'chargeoff_within_12_mths', 'delinq_2yrs', 'dti', 'emp_length', 'grade',\n",
              "       'inq_last_12m', 'installment', 'loan_amnt', 'num_actv_bc_tl',\n",
              "       'pub_rec_bankruptcies', 'home_ownership', 'term', 'mort_acc',\n",
              "       'num_tl_90g_dpd_24m', 'purpose', 'year', 'loan_default', 'job'],\n",
              "      dtype='object')"
            ]
          },
          "metadata": {},
          "execution_count": 9
        }
      ]
    },
    {
      "cell_type": "code",
      "metadata": {
        "colab": {
          "base_uri": "https://localhost:8080/",
          "height": 576
        },
        "id": "AZhcD4ktlSXs",
        "outputId": "d2ff5fac-9e17-4bbb-e51b-1965ce12536b"
      },
      "source": [
        "df_description = pd.read_excel('loan_param.xlsx').dropna()\n",
        "df_description.style.set_properties(subset=['Description'], **{'width': '1000px'})"
      ],
      "execution_count": null,
      "outputs": [
        {
          "output_type": "execute_result",
          "data": {
            "text/html": [
              "<style  type=\"text/css\" >\n",
              "#T_af79a8c0_0278_11ec_8aca_0242ac1c0002row0_col1,#T_af79a8c0_0278_11ec_8aca_0242ac1c0002row1_col1,#T_af79a8c0_0278_11ec_8aca_0242ac1c0002row2_col1,#T_af79a8c0_0278_11ec_8aca_0242ac1c0002row3_col1,#T_af79a8c0_0278_11ec_8aca_0242ac1c0002row4_col1,#T_af79a8c0_0278_11ec_8aca_0242ac1c0002row5_col1,#T_af79a8c0_0278_11ec_8aca_0242ac1c0002row6_col1,#T_af79a8c0_0278_11ec_8aca_0242ac1c0002row7_col1,#T_af79a8c0_0278_11ec_8aca_0242ac1c0002row8_col1,#T_af79a8c0_0278_11ec_8aca_0242ac1c0002row9_col1,#T_af79a8c0_0278_11ec_8aca_0242ac1c0002row10_col1,#T_af79a8c0_0278_11ec_8aca_0242ac1c0002row11_col1,#T_af79a8c0_0278_11ec_8aca_0242ac1c0002row12_col1,#T_af79a8c0_0278_11ec_8aca_0242ac1c0002row13_col1,#T_af79a8c0_0278_11ec_8aca_0242ac1c0002row14_col1,#T_af79a8c0_0278_11ec_8aca_0242ac1c0002row15_col1,#T_af79a8c0_0278_11ec_8aca_0242ac1c0002row16_col1,#T_af79a8c0_0278_11ec_8aca_0242ac1c0002row17_col1,#T_af79a8c0_0278_11ec_8aca_0242ac1c0002row18_col1,#T_af79a8c0_0278_11ec_8aca_0242ac1c0002row19_col1,#T_af79a8c0_0278_11ec_8aca_0242ac1c0002row20_col1{\n",
              "            width:  1000px;\n",
              "        }</style><table id=\"T_af79a8c0_0278_11ec_8aca_0242ac1c0002\" ><thead>    <tr>        <th class=\"blank level0\" ></th>        <th class=\"col_heading level0 col0\" >BrowseNotesFile</th>        <th class=\"col_heading level0 col1\" >Description</th>    </tr></thead><tbody>\n",
              "                <tr>\n",
              "                        <th id=\"T_af79a8c0_0278_11ec_8aca_0242ac1c0002level0_row0\" class=\"row_heading level0 row0\" >0</th>\n",
              "                        <td id=\"T_af79a8c0_0278_11ec_8aca_0242ac1c0002row0_col0\" class=\"data row0 col0\" >loanAmnt</td>\n",
              "                        <td id=\"T_af79a8c0_0278_11ec_8aca_0242ac1c0002row0_col1\" class=\"data row0 col1\" >The listed amount of the loan applied for by the borrower. If at some point in time, the credit department reduces the loan amount, then it will be reflected in this value.</td>\n",
              "            </tr>\n",
              "            <tr>\n",
              "                        <th id=\"T_af79a8c0_0278_11ec_8aca_0242ac1c0002level0_row1\" class=\"row_heading level0 row1\" >1</th>\n",
              "                        <td id=\"T_af79a8c0_0278_11ec_8aca_0242ac1c0002row1_col0\" class=\"data row1 col0\" >annualInc</td>\n",
              "                        <td id=\"T_af79a8c0_0278_11ec_8aca_0242ac1c0002row1_col1\" class=\"data row1 col1\" >The self-reported annual income provided by the borrower during registration.</td>\n",
              "            </tr>\n",
              "            <tr>\n",
              "                        <th id=\"T_af79a8c0_0278_11ec_8aca_0242ac1c0002level0_row2\" class=\"row_heading level0 row2\" >2</th>\n",
              "                        <td id=\"T_af79a8c0_0278_11ec_8aca_0242ac1c0002row2_col0\" class=\"data row2 col0\" >application_type</td>\n",
              "                        <td id=\"T_af79a8c0_0278_11ec_8aca_0242ac1c0002row2_col1\" class=\"data row2 col1\" >Indicates whether the loan is an individual application or a joint application with two co-borrowers</td>\n",
              "            </tr>\n",
              "            <tr>\n",
              "                        <th id=\"T_af79a8c0_0278_11ec_8aca_0242ac1c0002level0_row3\" class=\"row_heading level0 row3\" >3</th>\n",
              "                        <td id=\"T_af79a8c0_0278_11ec_8aca_0242ac1c0002row3_col0\" class=\"data row3 col0\" >avg_cur_bal</td>\n",
              "                        <td id=\"T_af79a8c0_0278_11ec_8aca_0242ac1c0002row3_col1\" class=\"data row3 col1\" >Average current balance of all accounts</td>\n",
              "            </tr>\n",
              "            <tr>\n",
              "                        <th id=\"T_af79a8c0_0278_11ec_8aca_0242ac1c0002level0_row4\" class=\"row_heading level0 row4\" >4</th>\n",
              "                        <td id=\"T_af79a8c0_0278_11ec_8aca_0242ac1c0002row4_col0\" class=\"data row4 col0\" >chargeoff_within_12_mths</td>\n",
              "                        <td id=\"T_af79a8c0_0278_11ec_8aca_0242ac1c0002row4_col1\" class=\"data row4 col1\" >Number of charge-offs within 12 months</td>\n",
              "            </tr>\n",
              "            <tr>\n",
              "                        <th id=\"T_af79a8c0_0278_11ec_8aca_0242ac1c0002level0_row5\" class=\"row_heading level0 row5\" >5</th>\n",
              "                        <td id=\"T_af79a8c0_0278_11ec_8aca_0242ac1c0002row5_col0\" class=\"data row5 col0\" >delinq2Yrs</td>\n",
              "                        <td id=\"T_af79a8c0_0278_11ec_8aca_0242ac1c0002row5_col1\" class=\"data row5 col1\" >The number of 30+ days past-due incidences of delinquency in the borrower's credit file for the past 2 years</td>\n",
              "            </tr>\n",
              "            <tr>\n",
              "                        <th id=\"T_af79a8c0_0278_11ec_8aca_0242ac1c0002level0_row6\" class=\"row_heading level0 row6\" >6</th>\n",
              "                        <td id=\"T_af79a8c0_0278_11ec_8aca_0242ac1c0002row6_col0\" class=\"data row6 col0\" >dti</td>\n",
              "                        <td id=\"T_af79a8c0_0278_11ec_8aca_0242ac1c0002row6_col1\" class=\"data row6 col1\" >A ratio calculated using the borrower’s total monthly debt payments on the total debt obligations, excluding mortgage and the requested LC loan, divided by the borrower’s self-reported monthly income.</td>\n",
              "            </tr>\n",
              "            <tr>\n",
              "                        <th id=\"T_af79a8c0_0278_11ec_8aca_0242ac1c0002level0_row7\" class=\"row_heading level0 row7\" >7</th>\n",
              "                        <td id=\"T_af79a8c0_0278_11ec_8aca_0242ac1c0002row7_col0\" class=\"data row7 col0\" >emp_length</td>\n",
              "                        <td id=\"T_af79a8c0_0278_11ec_8aca_0242ac1c0002row7_col1\" class=\"data row7 col1\" >Employment length in years. Possible values are between 0 and 10 where 0 means less than one year and 10 means ten or more years.</td>\n",
              "            </tr>\n",
              "            <tr>\n",
              "                        <th id=\"T_af79a8c0_0278_11ec_8aca_0242ac1c0002level0_row8\" class=\"row_heading level0 row8\" >8</th>\n",
              "                        <td id=\"T_af79a8c0_0278_11ec_8aca_0242ac1c0002row8_col0\" class=\"data row8 col0\" >grade</td>\n",
              "                        <td id=\"T_af79a8c0_0278_11ec_8aca_0242ac1c0002row8_col1\" class=\"data row8 col1\" >LC assigned loan grade</td>\n",
              "            </tr>\n",
              "            <tr>\n",
              "                        <th id=\"T_af79a8c0_0278_11ec_8aca_0242ac1c0002level0_row9\" class=\"row_heading level0 row9\" >9</th>\n",
              "                        <td id=\"T_af79a8c0_0278_11ec_8aca_0242ac1c0002row9_col0\" class=\"data row9 col0\" >homeOwnership</td>\n",
              "                        <td id=\"T_af79a8c0_0278_11ec_8aca_0242ac1c0002row9_col1\" class=\"data row9 col1\" >The home ownership status provided by the borrower during registration. Our values are: RENT, OWN, MORTGAGE, OTHER.</td>\n",
              "            </tr>\n",
              "            <tr>\n",
              "                        <th id=\"T_af79a8c0_0278_11ec_8aca_0242ac1c0002level0_row10\" class=\"row_heading level0 row10\" >10</th>\n",
              "                        <td id=\"T_af79a8c0_0278_11ec_8aca_0242ac1c0002row10_col0\" class=\"data row10 col0\" >inq_last_12m</td>\n",
              "                        <td id=\"T_af79a8c0_0278_11ec_8aca_0242ac1c0002row10_col1\" class=\"data row10 col1\" >Number of credit inquiries in past 12 months</td>\n",
              "            </tr>\n",
              "            <tr>\n",
              "                        <th id=\"T_af79a8c0_0278_11ec_8aca_0242ac1c0002level0_row11\" class=\"row_heading level0 row11\" >11</th>\n",
              "                        <td id=\"T_af79a8c0_0278_11ec_8aca_0242ac1c0002row11_col0\" class=\"data row11 col0\" >installment</td>\n",
              "                        <td id=\"T_af79a8c0_0278_11ec_8aca_0242ac1c0002row11_col1\" class=\"data row11 col1\" >The monthly payment owed by the borrower if the loan originates.</td>\n",
              "            </tr>\n",
              "            <tr>\n",
              "                        <th id=\"T_af79a8c0_0278_11ec_8aca_0242ac1c0002level0_row12\" class=\"row_heading level0 row12\" >12</th>\n",
              "                        <td id=\"T_af79a8c0_0278_11ec_8aca_0242ac1c0002row12_col0\" class=\"data row12 col0\" >job</td>\n",
              "                        <td id=\"T_af79a8c0_0278_11ec_8aca_0242ac1c0002row12_col1\" class=\"data row12 col1\" >Job Description</td>\n",
              "            </tr>\n",
              "            <tr>\n",
              "                        <th id=\"T_af79a8c0_0278_11ec_8aca_0242ac1c0002level0_row13\" class=\"row_heading level0 row13\" >13</th>\n",
              "                        <td id=\"T_af79a8c0_0278_11ec_8aca_0242ac1c0002row13_col0\" class=\"data row13 col0\" >loanAmnt</td>\n",
              "                        <td id=\"T_af79a8c0_0278_11ec_8aca_0242ac1c0002row13_col1\" class=\"data row13 col1\" >The listed amount of the loan applied for by the borrower. If at some point in time, the credit department reduces the loan amount, then it will be reflected in this value.</td>\n",
              "            </tr>\n",
              "            <tr>\n",
              "                        <th id=\"T_af79a8c0_0278_11ec_8aca_0242ac1c0002level0_row14\" class=\"row_heading level0 row14\" >14</th>\n",
              "                        <td id=\"T_af79a8c0_0278_11ec_8aca_0242ac1c0002row14_col0\" class=\"data row14 col0\" >loanDefault</td>\n",
              "                        <td id=\"T_af79a8c0_0278_11ec_8aca_0242ac1c0002row14_col1\" class=\"data row14 col1\" >0: Loan was uptimated paid in full. 1: A default even occurred</td>\n",
              "            </tr>\n",
              "            <tr>\n",
              "                        <th id=\"T_af79a8c0_0278_11ec_8aca_0242ac1c0002level0_row15\" class=\"row_heading level0 row15\" >15</th>\n",
              "                        <td id=\"T_af79a8c0_0278_11ec_8aca_0242ac1c0002row15_col0\" class=\"data row15 col0\" >mortAcc</td>\n",
              "                        <td id=\"T_af79a8c0_0278_11ec_8aca_0242ac1c0002row15_col1\" class=\"data row15 col1\" >Number of mortgage accounts.</td>\n",
              "            </tr>\n",
              "            <tr>\n",
              "                        <th id=\"T_af79a8c0_0278_11ec_8aca_0242ac1c0002level0_row16\" class=\"row_heading level0 row16\" >16</th>\n",
              "                        <td id=\"T_af79a8c0_0278_11ec_8aca_0242ac1c0002row16_col0\" class=\"data row16 col0\" >num_tl_90g_dpd_24m</td>\n",
              "                        <td id=\"T_af79a8c0_0278_11ec_8aca_0242ac1c0002row16_col1\" class=\"data row16 col1\" >Number of accounts 90 or more days past due in last 24 months</td>\n",
              "            </tr>\n",
              "            <tr>\n",
              "                        <th id=\"T_af79a8c0_0278_11ec_8aca_0242ac1c0002level0_row17\" class=\"row_heading level0 row17\" >17</th>\n",
              "                        <td id=\"T_af79a8c0_0278_11ec_8aca_0242ac1c0002row17_col0\" class=\"data row17 col0\" >pub_rec_bankruptcies</td>\n",
              "                        <td id=\"T_af79a8c0_0278_11ec_8aca_0242ac1c0002row17_col1\" class=\"data row17 col1\" >Number of public record bankruptcies</td>\n",
              "            </tr>\n",
              "            <tr>\n",
              "                        <th id=\"T_af79a8c0_0278_11ec_8aca_0242ac1c0002level0_row18\" class=\"row_heading level0 row18\" >18</th>\n",
              "                        <td id=\"T_af79a8c0_0278_11ec_8aca_0242ac1c0002row18_col0\" class=\"data row18 col0\" >purpose</td>\n",
              "                        <td id=\"T_af79a8c0_0278_11ec_8aca_0242ac1c0002row18_col1\" class=\"data row18 col1\" >A category provided by the borrower for the loan request. </td>\n",
              "            </tr>\n",
              "            <tr>\n",
              "                        <th id=\"T_af79a8c0_0278_11ec_8aca_0242ac1c0002level0_row19\" class=\"row_heading level0 row19\" >19</th>\n",
              "                        <td id=\"T_af79a8c0_0278_11ec_8aca_0242ac1c0002row19_col0\" class=\"data row19 col0\" >term</td>\n",
              "                        <td id=\"T_af79a8c0_0278_11ec_8aca_0242ac1c0002row19_col1\" class=\"data row19 col1\" >The number of payments on the loan. Values are in months and can be either 36 or 60.</td>\n",
              "            </tr>\n",
              "            <tr>\n",
              "                        <th id=\"T_af79a8c0_0278_11ec_8aca_0242ac1c0002level0_row20\" class=\"row_heading level0 row20\" >20</th>\n",
              "                        <td id=\"T_af79a8c0_0278_11ec_8aca_0242ac1c0002row20_col0\" class=\"data row20 col0\" >Year</td>\n",
              "                        <td id=\"T_af79a8c0_0278_11ec_8aca_0242ac1c0002row20_col1\" class=\"data row20 col1\" >Year of Issue of the loan</td>\n",
              "            </tr>\n",
              "    </tbody></table>"
            ],
            "text/plain": [
              "<pandas.io.formats.style.Styler at 0x7f8897413b90>"
            ]
          },
          "metadata": {},
          "execution_count": 10
        }
      ]
    },
    {
      "cell_type": "code",
      "metadata": {
        "colab": {
          "base_uri": "https://localhost:8080/"
        },
        "id": "tN5jencIlSXt",
        "outputId": "b71a00c4-2ab9-4e16-98ca-39f8d5e6745a"
      },
      "source": [
        "Data.dtypes"
      ],
      "execution_count": null,
      "outputs": [
        {
          "output_type": "execute_result",
          "data": {
            "text/plain": [
              "annual_inc                  float64\n",
              "application_type             object\n",
              "avg_cur_bal                 float64\n",
              "chargeoff_within_12_mths    float64\n",
              "delinq_2yrs                 float64\n",
              "dti                         float64\n",
              "emp_length                    int64\n",
              "grade                        object\n",
              "inq_last_12m                float64\n",
              "installment                 float64\n",
              "loan_amnt                     int64\n",
              "num_actv_bc_tl              float64\n",
              "pub_rec_bankruptcies        float64\n",
              "home_ownership               object\n",
              "term                          int64\n",
              "mort_acc                    float64\n",
              "num_tl_90g_dpd_24m          float64\n",
              "purpose                      object\n",
              "year                          int64\n",
              "loan_default                  int64\n",
              "job                          object\n",
              "dtype: object"
            ]
          },
          "metadata": {},
          "execution_count": 11
        }
      ]
    },
    {
      "cell_type": "markdown",
      "metadata": {
        "id": "q509nZZ2lSXv"
      },
      "source": [
        "### Exercise 1: (20 mts)\n",
        "\n",
        "For each of the following, perform the directed visualization and discuss your conclusions from it."
      ]
    },
    {
      "cell_type": "markdown",
      "metadata": {
        "id": "x2Dix0_ilSXw"
      },
      "source": [
        "#### 1.1 \n",
        "\n",
        "Create a bar chart showing the number of loans that did and did not default."
      ]
    },
    {
      "cell_type": "markdown",
      "metadata": {
        "id": "Abwd91-LlSXx"
      },
      "source": [
        "**Answer:**"
      ]
    },
    {
      "cell_type": "code",
      "metadata": {
        "colab": {
          "base_uri": "https://localhost:8080/",
          "height": 301
        },
        "id": "zebgmqiFlSXy",
        "outputId": "0da3e380-266c-4bd5-da38-f226f3bf2a38"
      },
      "source": [
        "sns.countplot(Data.loan_default)"
      ],
      "execution_count": null,
      "outputs": [
        {
          "output_type": "execute_result",
          "data": {
            "text/plain": [
              "<matplotlib.axes._subplots.AxesSubplot at 0x7f88964c7c50>"
            ]
          },
          "metadata": {},
          "execution_count": 12
        },
        {
          "output_type": "display_data",
          "data": {
            "image/png": "[encoded data removed]",
            "text/plain": [
              "<Figure size 432x288 with 1 Axes>"
            ]
          },
          "metadata": {}
        }
      ]
    },
    {
      "cell_type": "markdown",
      "metadata": {
        "id": "tjmB1p7blSXz"
      },
      "source": [
        "Se observa que más del 20% de las deudas no se pagan."
      ]
    },
    {
      "cell_type": "markdown",
      "metadata": {
        "id": "S4vg4Sw3lSX0"
      },
      "source": [
        "#### 1.2 \n",
        "\n",
        "Plot a histogram of the annual incomes."
      ]
    },
    {
      "cell_type": "markdown",
      "metadata": {
        "id": "L_b9SW72lSX1"
      },
      "source": [
        "**Answer:**"
      ]
    },
    {
      "cell_type": "code",
      "metadata": {
        "colab": {
          "base_uri": "https://localhost:8080/",
          "height": 282
        },
        "id": "16RXguNylSX1",
        "outputId": "bf00df0c-3abd-409d-ad08-98358a9f49fd"
      },
      "source": [
        "Data.annual_inc.hist()"
      ],
      "execution_count": null,
      "outputs": [
        {
          "output_type": "execute_result",
          "data": {
            "text/plain": [
              "<matplotlib.axes._subplots.AxesSubplot at 0x7f8895d1e850>"
            ]
          },
          "metadata": {},
          "execution_count": 13
        },
        {
          "output_type": "display_data",
          "data": {
            "image/png": "[encoded data removed]",
            "text/plain": [
              "<Figure size 432x288 with 1 Axes>"
            ]
          },
          "metadata": {}
        }
      ]
    },
    {
      "cell_type": "markdown",
      "metadata": {
        "id": "B6TVVZg2lSX2"
      },
      "source": [
        "Los ingresos anuales de las mayoría de los prestamistas son inferiores a 150.000 dólares."
      ]
    },
    {
      "cell_type": "markdown",
      "metadata": {
        "id": "WnrhWsSmlSX2"
      },
      "source": [
        "#### 1.3\n",
        "\n",
        "Is the distribution of annual incomes different between applicants who defaulted vs. applicants who did not default on their loans?"
      ]
    },
    {
      "cell_type": "markdown",
      "metadata": {
        "id": "IwnLzvOIlSX3"
      },
      "source": [
        "**Answer:**"
      ]
    },
    {
      "cell_type": "code",
      "metadata": {
        "colab": {
          "base_uri": "https://localhost:8080/"
        },
        "id": "Z56xTYqxlSX4",
        "outputId": "981200c0-5426-4b25-b4fc-a7b603755eb4"
      },
      "source": [
        "np.log(Data.annual_inc[Data.loan_default == 0]).hist(bins=100, density=True)\n",
        "np.log(Data.annual_inc[Data.loan_default == 1]).hist(bins=100, density=True)"
      ],
      "execution_count": null,
      "outputs": [
        {
          "output_type": "execute_result",
          "data": {
            "text/plain": [
              "<matplotlib.axes._subplots.AxesSubplot at 0x7f8895cc3050>"
            ]
          },
          "metadata": {},
          "execution_count": 14
        },
        {
          "output_type": "display_data",
          "data": {
            "image/png": "[encoded data removed]",
            "text/plain": [
              "<Figure size 432x288 with 1 Axes>"
            ]
          },
          "metadata": {}
        }
      ]
    },
    {
      "cell_type": "markdown",
      "metadata": {
        "id": "QHItU6htlSX5"
      },
      "source": [
        "We can see that the distributions are not that different, indicating that income alone is not likely to explain a significant fraction of the difference in loan default status."
      ]
    },
    {
      "cell_type": "markdown",
      "metadata": {
        "id": "DETt04zUlSX6"
      },
      "source": [
        "#### 1.4\n",
        "\n",
        "Explore the association between annual income and the monthly installment."
      ]
    },
    {
      "cell_type": "markdown",
      "metadata": {
        "id": "X4QyjAOSlSX6"
      },
      "source": [
        "**Answer:**"
      ]
    },
    {
      "cell_type": "code",
      "metadata": {
        "colab": {
          "base_uri": "https://localhost:8080/"
        },
        "id": "mWYcmz5tlSX7",
        "outputId": "67794b14-241f-4ac9-ee6f-4116298a22c8"
      },
      "source": [
        "plt.scatter(np.log(Data.annual_inc), np.log(Data.installment))"
      ],
      "execution_count": null,
      "outputs": [
        {
          "output_type": "execute_result",
          "data": {
            "text/plain": [
              "<matplotlib.collections.PathCollection at 0x7f88959c2e10>"
            ]
          },
          "metadata": {},
          "execution_count": 15
        },
        {
          "output_type": "display_data",
          "data": {
            "image/png": "[encoded data removed]",
            "text/plain": [
              "<Figure size 432x288 with 1 Axes>"
            ]
          },
          "metadata": {}
        }
      ]
    },
    {
      "cell_type": "markdown",
      "metadata": {
        "id": "Bdzf9ZyDlSX8"
      },
      "source": [
        "Se visualiza una pequeña relación lineal a escala logarítimica entre los ingresos y el pago mensual del préstamo."
      ]
    },
    {
      "cell_type": "markdown",
      "metadata": {
        "id": "5NHfWvsHlSX8"
      },
      "source": [
        "__________"
      ]
    },
    {
      "cell_type": "markdown",
      "metadata": {
        "id": "5U3OzNHNlSX9"
      },
      "source": [
        "Here are a few more figures which look at the relationship between other numerical covariates and the probability of default, as well as annual income:"
      ]
    },
    {
      "cell_type": "markdown",
      "metadata": {
        "id": "7gyDet8hlSX9"
      },
      "source": [
        "`emp_length`:"
      ]
    },
    {
      "cell_type": "code",
      "metadata": {
        "colab": {
          "base_uri": "https://localhost:8080/"
        },
        "id": "fDQ5dcCylSX9",
        "outputId": "43fbf1b1-b8ba-47c7-8c71-5b58c5e1baa4"
      },
      "source": [
        "fig, (ax1, ax2) = plt.subplots(figsize = (10,5), ncols=2, sharey= False)\n",
        "sns.boxplot(x='emp_length', y = 'annual_inc', data = Data, showfliers=False, ax = ax1) #showfliers=False for nice display\n",
        "ax1.set_title(\"Annual income vs Employment length\")\n",
        "Data[[\"emp_length\",'loan_default']].groupby(\"emp_length\").mean().plot.bar(rot=90,ax = ax2)\n",
        "plt.title(\"Default probability vs. Employment length\")"
      ],
      "execution_count": null,
      "outputs": [
        {
          "output_type": "execute_result",
          "data": {
            "text/plain": [
              "Text(0.5, 1.0, 'Default probability vs. Employment length')"
            ]
          },
          "metadata": {},
          "execution_count": 16
        },
        {
          "output_type": "display_data",
          "data": {
            "image/png": "[encoded data removed]",
            "text/plain": [
              "<Figure size 720x360 with 2 Axes>"
            ]
          },
          "metadata": {}
        }
      ]
    },
    {
      "cell_type": "markdown",
      "metadata": {
        "id": "Z76eJvzDlSX9"
      },
      "source": [
        "Con el diagrama de cajas y bigotes se observa que la experiencia laboral de los prestamistas no diferencia los ingresos obtenidos entre los mismos, es decir, mayor experiencia laboral no significa mayores ingresos. Además, no se observa una relación clara entre la probabilidad de no pagar la deuda y la experiencia laboral ya que las diferencias entre las probabilidades mínimas y máximas son de al menos el 5%."
      ]
    },
    {
      "cell_type": "markdown",
      "metadata": {
        "id": "KUnTjxK6lSX9"
      },
      "source": [
        "`homeOwnership`:"
      ]
    },
    {
      "cell_type": "code",
      "metadata": {
        "colab": {
          "base_uri": "https://localhost:8080/"
        },
        "id": "gaEruXxxlSX-",
        "outputId": "dea9130d-419e-40c4-8bb7-f501c34d5d01"
      },
      "source": [
        "fig, (ax1, ax2) = plt.subplots(figsize = (10,5), ncols=2, sharey= False)\n",
        "sns.boxplot(x=\"home_ownership\",y=\"annual_inc\", data = Data, showfliers=False, ax = ax1) #showfliers=False for nice display\n",
        "ax1.set_title(\"Annual income vs Home ownership\")\n",
        "Data[[\"home_ownership\",'loan_default']].groupby(\"home_ownership\").mean().plot.bar(rot=90,ax = ax2)\n",
        "plt.title(\"Default probability vs. home ownership\");"
      ],
      "execution_count": null,
      "outputs": [
        {
          "output_type": "display_data",
          "data": {
            "image/png": "[encoded data removed]",
            "text/plain": [
              "<Figure size 720x360 with 2 Axes>"
            ]
          },
          "metadata": {}
        }
      ]
    },
    {
      "cell_type": "markdown",
      "metadata": {
        "id": "BMm4FLaxlSX-"
      },
      "source": [
        "De la primera gráfica inferimos que en promedio los prestamistas con hipotecas tienen mayores ingresos anuales que los propietarios de viviendas y aquellos que rentan. Además, de la segunda gráfica se puede concluir que las personas que pagan renta tienen mayor probabilidad de no pagar sus deudas en comparación a los otros prestamistas con propiedad o hipoteca."
      ]
    },
    {
      "cell_type": "markdown",
      "metadata": {
        "id": "b6r-xHJAlSX_"
      },
      "source": [
        "Here are some figures that show the relationship between various categorical variables and the probability of default:"
      ]
    },
    {
      "cell_type": "markdown",
      "metadata": {
        "id": "899grH8TlSX_"
      },
      "source": [
        "`purpose`:"
      ]
    },
    {
      "cell_type": "code",
      "metadata": {
        "colab": {
          "base_uri": "https://localhost:8080/"
        },
        "id": "GWTEwTtclSX_",
        "outputId": "8e062f5e-d5fd-4ab7-9ff4-e7c00155b065"
      },
      "source": [
        "plt.figure(figsize= (10,5))\n",
        "Data.emp_length.value_counts()\n",
        "sns.countplot(x='purpose', order=Data['purpose'].value_counts().index, data = Data) \n",
        "plt.xticks(rotation=90)\n",
        "plt.title(\"Distribution of Loan Purposes\", fontsize=20);"
      ],
      "execution_count": null,
      "outputs": [
        {
          "output_type": "display_data",
          "data": {
            "image/png": "[encoded data removed]",
            "text/plain": [
              "<Figure size 720x360 with 1 Axes>"
            ]
          },
          "metadata": {}
        }
      ]
    },
    {
      "cell_type": "markdown",
      "metadata": {
        "id": "_hPrzZu2lSYA"
      },
      "source": [
        "Se observa que la mayor proporción de los créditos son destinados a compra y consolidación de cartera, tarjetas de crédito y mejoras de vivienda."
      ]
    },
    {
      "cell_type": "code",
      "metadata": {
        "colab": {
          "base_uri": "https://localhost:8080/"
        },
        "id": "4SchCRk7lSYB",
        "outputId": "8338ed58-257a-42e5-9e29-18b5eaf578e9"
      },
      "source": [
        "plt.figure(figsize= (10,5))\n",
        "purpose_default = Data[[\"loan_default\", \"purpose\"]].groupby(\"purpose\").mean()\n",
        "purpose_default = purpose_default.sort_values(by=\"loan_default\",axis=0, ascending=False)\n",
        "sns.barplot(x=purpose_default.index[:30], \n",
        "            y=purpose_default[\"loan_default\"][:30].values,\n",
        "            orient=\"v\")\n",
        "plt.xticks(rotation=90)\n",
        "plt.ylabel(\"Default Probability\");\n",
        "plt.title(\"Default Probability by Loan Purpose\")\n"
      ],
      "execution_count": null,
      "outputs": [
        {
          "output_type": "execute_result",
          "data": {
            "text/plain": [
              "Text(0.5, 1.0, 'Default Probability by Loan Purpose')"
            ]
          },
          "metadata": {},
          "execution_count": 19
        },
        {
          "output_type": "display_data",
          "data": {
            "image/png": "[encoded data removed]",
            "text/plain": [
              "<Figure size 720x360 with 1 Axes>"
            ]
          },
          "metadata": {}
        }
      ]
    },
    {
      "cell_type": "markdown",
      "metadata": {
        "id": "5irHqGLjlSYB"
      },
      "source": [
        "Se observa en la gráfica anterior que la probabilidad de no pago de deudas sin caracterizar sumadas contribuyen en mayor cantidad que las deudas no pagadas por otros conceptos, a estas le siguen los no pagos a deudas de pequeños negocios, gastos médicos y compra - consolidación de cartera."
      ]
    },
    {
      "cell_type": "markdown",
      "metadata": {
        "id": "3hfRnBiblSYC"
      },
      "source": [
        "`job`:"
      ]
    },
    {
      "cell_type": "code",
      "metadata": {
        "colab": {
          "base_uri": "https://localhost:8080/"
        },
        "id": "1FTUDpY_lSYC",
        "outputId": "cb8053ea-16a8-4fea-a25a-efb4d02c469b"
      },
      "source": [
        "plt.figure(figsize= (15,5))\n",
        "sns.barplot(x=Data[\"job\"].value_counts()[:30].index.values , \n",
        "            y=100 * Data.job.value_counts()[:30].values / len(Data),\n",
        "            orient=\"v\")\n",
        "plt.xticks(rotation=90)\n",
        "plt.ylabel(\"Percentage of Population\")\n",
        "plt.title(\"Distribution of Jobs\", fontsize=20);\n"
      ],
      "execution_count": null,
      "outputs": [
        {
          "output_type": "display_data",
          "data": {
            "image/png": "[encoded data removed]",
            "text/plain": [
              "<Figure size 1080x360 with 1 Axes>"
            ]
          },
          "metadata": {}
        }
      ]
    },
    {
      "cell_type": "markdown",
      "metadata": {
        "id": "gapgqNgblSYC"
      },
      "source": [
        "Comparando entre los diferentes cargos de los prestamistas aquellos que tienen oficios administrativos aquieren la mayor cantidad de deudas en este banco."
      ]
    },
    {
      "cell_type": "code",
      "metadata": {
        "colab": {
          "base_uri": "https://localhost:8080/"
        },
        "id": "VgXcaKT1lSYD",
        "outputId": "2fa996ff-17bb-4be8-dda0-42c6d4e24a66"
      },
      "source": [
        "plt.figure(figsize= (20,5))\n",
        "\n",
        "df_job_default = Data[[\"loan_default\", \"job\"]].groupby(\"job\").mean()\n",
        "df_job_default = df_job_default.sort_values(by=\"loan_default\",axis=0, ascending=False)\n",
        "sns.barplot(x=df_job_default.index[:50], \n",
        "            y=df_job_default[\"loan_default\"][:50].values,\n",
        "            orient=\"v\")\n",
        "plt.xticks(rotation=90)\n",
        "\n",
        "plt.ylabel(\"Defaut Probability\")\n",
        "plt.title(\"Default Probability by Job Type\", fontsize=20, verticalalignment='bottom');"
      ],
      "execution_count": null,
      "outputs": [
        {
          "output_type": "display_data",
          "data": {
            "image/png": "[encoded data removed]",
            "text/plain": [
              "<Figure size 1440x360 with 1 Axes>"
            ]
          },
          "metadata": {}
        }
      ]
    },
    {
      "cell_type": "markdown",
      "metadata": {
        "id": "_sqk-K6VlSYD"
      },
      "source": [
        "La mayoría de las profesiones de los prestasmistas tienen probabilidad de impago entre el 25% y el 50%. Por otro lado, las profesiones con esta probabilidad mayor al 50% son educador, producción y científico con el 68%, 71% y 80% respectivamente."
      ]
    },
    {
      "cell_type": "markdown",
      "metadata": {
        "id": "aSHSip7SlSYD"
      },
      "source": [
        "### Adding a new variable\n",
        "\n",
        "The yearly payment owed by the borrower, as a fraction of their annual income, is a standard metric used in evaluating whether a loan should be issued. Let's define a new variable **\"install_income\"** which codes the installment as a fraction of the annual income and study its association with the other features:"
      ]
    },
    {
      "cell_type": "code",
      "metadata": {
        "colab": {
          "base_uri": "https://localhost:8080/"
        },
        "id": "N3NSJHQ3lSYE",
        "outputId": "47f59afc-d7cd-45ca-a289-895e5b09393c"
      },
      "source": [
        "Data['install_income'] = 12 * Data.installment / Data.annual_inc\n",
        "H = plt.hist(Data['install_income'], bins=100, density=True)\n",
        "plt.xlabel(r\"Installment / Income\")"
      ],
      "execution_count": null,
      "outputs": [
        {
          "output_type": "execute_result",
          "data": {
            "text/plain": [
              "Text(0.5, 0, 'Installment / Income')"
            ]
          },
          "metadata": {},
          "execution_count": 22
        },
        {
          "output_type": "display_data",
          "data": {
            "image/png": "[encoded data removed]",
            "text/plain": [
              "<Figure size 432x288 with 1 Axes>"
            ]
          },
          "metadata": {}
        }
      ]
    },
    {
      "cell_type": "markdown",
      "metadata": {
        "id": "ASoH5-rGlSYF"
      },
      "source": [
        "Se observa que los prestamistas destinan máximo el 20% de sus ingresos anuales en el pago mensual de la cuota del crédito."
      ]
    },
    {
      "cell_type": "markdown",
      "metadata": {
        "id": "47RAdkEklSYF"
      },
      "source": [
        "In order to easily investigate this variable's association with the probability of default, define a new covariate named `install_income_disc` that is a discretized version of `install_income`:"
      ]
    },
    {
      "cell_type": "code",
      "metadata": {
        "colab": {
          "base_uri": "https://localhost:8080/"
        },
        "id": "ILDBS78RlSYG",
        "outputId": "60f9dc37-152b-4f6e-973a-a7508c1dd384"
      },
      "source": [
        "# let us discretize the \"install_income\" variable to study the probability of default \n",
        "# as a function of \"install_income\"\n",
        "Data[\"install_income_disc\"] = (Data.install_income*50).astype(int)/50.  #discretization\n",
        "Data[[\"loan_default\", \"install_income_disc\"]].groupby(\"install_income_disc\").mean().plot.bar(rot=90)\n",
        "Data = Data.drop([\"install_income_disc\"], axis=1)\n",
        "\n",
        "# --> there is a clear positive association: as the fraction of the annual income devoted to the re-imbursement of \n",
        "# the loan increases, the probability of default sharply increases"
      ],
      "execution_count": null,
      "outputs": [
        {
          "output_type": "display_data",
          "data": {
            "image/png": "[encoded data removed]",
            "text/plain": [
              "<Figure size 432x288 with 1 Axes>"
            ]
          },
          "metadata": {}
        }
      ]
    },
    {
      "cell_type": "markdown",
      "metadata": {
        "id": "Oy-cYAftlSYH"
      },
      "source": [
        "La gráfica anterior muestra la relación de no pago y la proporción de la cuota respecto al salario del prestamista, a mayor proporción de pago mensual mayor probabilidad de no pago."
      ]
    },
    {
      "cell_type": "markdown",
      "metadata": {
        "id": "--iCUKRjlSYH"
      },
      "source": [
        "### Exercise 2: (10 mts)\n",
        "\n",
        "Visualize the correlation matrix across all numerical features by using the `sns.heatmap()` command\n",
        "\n",
        "**Answer:**"
      ]
    },
    {
      "cell_type": "code",
      "metadata": {
        "colab": {
          "base_uri": "https://localhost:8080/"
        },
        "id": "qAxo6RPjlSYH",
        "outputId": "1215df58-8c55-4927-fcc9-eb9f78c943c5"
      },
      "source": [
        "#compute correlation matrix\n",
        "labels = ['application_type', 'grade', 'purpose', 'job', 'home_ownership']# drop rows\n",
        "# get correlations\n",
        "df_corr = Data.corr()# irrelevant fields\n",
        "df_corr\n",
        "\n",
        "#mask the upper half for visualization purposes\n",
        "np.ones_like(df_corr, dtype=np.bool)\n",
        "\n",
        "fig, ax = plt.subplots(figsize=(17, 15))# mask\n",
        "mask = np.triu(np.ones_like(df_corr, dtype=np.bool))# adjust mask and df\n",
        "mask = mask[1:, :-1]\n",
        "corr = df_corr.iloc[1:,:-1].copy()# plot heatmap\n",
        "sns.heatmap(corr, mask=mask, annot=True, fmt=\".2f\", cmap='Blues',\n",
        "           vmin=-1, vmax=1, cbar_kws={\"shrink\": .8})# yticks\n",
        "plt.yticks(rotation=0)\n",
        "\n",
        "# Draw the heatmap with the mask and correct aspect ratio\n",
        "plt.show()"
      ],
      "execution_count": null,
      "outputs": [
        {
          "output_type": "display_data",
          "data": {
            "image/png": "[encoded data removed]",
            "text/plain": [
              "<Figure size 1224x1080 with 2 Axes>"
            ]
          },
          "metadata": {}
        }
      ]
    },
    {
      "cell_type": "markdown",
      "metadata": {
        "id": "U_eaU2EblSYI"
      },
      "source": [
        "## Building a predictive model (20 mts)\n",
        "\n",
        "Let's first start by building a standard logistic regression model. In general, it is important and extremely useful to first create baseline/simple models which can be compared to more complex models later."
      ]
    },
    {
      "cell_type": "markdown",
      "metadata": {
        "id": "XqF510gAlSYI"
      },
      "source": [
        "### Exercise 3: (15 mts)\n",
        "\n",
        "#### 3.1\n",
        "\n",
        "Using the `LogisticRegression()` function from `scikit-learn`, write a function named `fit_logistic_regression(X,y)` that fits a logistic regression on the array of covariates `X` and associated response variable `y`."
      ]
    },
    {
      "cell_type": "markdown",
      "metadata": {
        "id": "Z1_GhFlIlSYJ"
      },
      "source": [
        "**Answer:**"
      ]
    },
    {
      "cell_type": "code",
      "metadata": {
        "id": "h6wnv62ZlSYK"
      },
      "source": [
        "from sklearn.model_selection import train_test_split\n",
        "from sklearn.linear_model import LogisticRegression\n",
        "# import the metrics class\n",
        "from sklearn.metrics import accuracy_score, recall_score, f1_score\n",
        "\n",
        "\n",
        "def fit_logistic_regression(X, y, split):\n",
        "    X_train, X_test, y_train, y_test = train_test_split(X, y, test_size=split, random_state=42)\n",
        "    \n",
        "    # instantiate the model (using the default parameters)\n",
        "    logreg = LogisticRegression()\n",
        "\n",
        "    # fit the model with data\n",
        "    logreg.fit(X_train, y_train)\n",
        "    \n",
        "    #\n",
        "    y_pred = logreg.predict(X_test)\n",
        "    print(\"Accuracy:\", accuracy_score(y_test, y_pred))\n",
        "    print(\"Recall:\", recall_score(y_test, y_pred))\n",
        "    print(\"F1 Score:\", f1_score(y_test, y_pred))\n",
        "    return np.array(y_test), y_pred"
      ],
      "execution_count": null,
      "outputs": []
    },
    {
      "cell_type": "markdown",
      "metadata": {
        "id": "UhgzLVBllSYK"
      },
      "source": [
        "#### 3.2\n",
        "\n",
        "Create a basic logistic regression model for predicting the loan default with only one feature: `install_income`.  Call this model `model1`. Use a 70/30 train-test split of the data."
      ]
    },
    {
      "cell_type": "markdown",
      "metadata": {
        "id": "LN6m4u0WlSYK"
      },
      "source": [
        "**Answer:**"
      ]
    },
    {
      "cell_type": "code",
      "metadata": {
        "colab": {
          "base_uri": "https://localhost:8080/"
        },
        "id": "GlIZOlMTlSYL",
        "outputId": "a96ee05e-daf6-4264-9fcc-54c768bd3686"
      },
      "source": [
        "X = Data[['install_income']] # Features\n",
        "y = Data.loan_default\n",
        "\n",
        "y_test, y_pred = fit_logistic_regression(X, y, split=0.3)"
      ],
      "execution_count": null,
      "outputs": [
        {
          "output_type": "stream",
          "text": [
            "Accuracy: 0.776\n",
            "Recall: 0.005934718100890208\n",
            "F1 Score: 0.011764705882352941\n"
          ],
          "name": "stdout"
        }
      ]
    },
    {
      "cell_type": "markdown",
      "metadata": {
        "id": "UmiD8ijolSYL"
      },
      "source": [
        "#### 3.3\n",
        "\n",
        "Plot the ROC curve of `model1` and find the area under the curve."
      ]
    },
    {
      "cell_type": "markdown",
      "metadata": {
        "id": "2ylxdzZ_lSYM"
      },
      "source": [
        "**Answer:**"
      ]
    },
    {
      "cell_type": "code",
      "metadata": {
        "colab": {
          "base_uri": "https://localhost:8080/",
          "height": 351
        },
        "id": "ATkIaIM4lSYM",
        "outputId": "2c4e1752-b985-436f-97c5-383181dfb8aa"
      },
      "source": [
        "from sklearn.metrics import roc_curve, auc\n",
        "from sklearn.model_selection import StratifiedKFold\n",
        "\n",
        "def plot_roc(y, y_pred):\n",
        "    # función para pintar la curva ROC y mostrar el AUC\n",
        "    roc_novs = roc_curve(y, y_pred) # .cat.codes\n",
        "    auc_novs = auc(roc_novs[0], roc_novs[1])\n",
        "    print('AUC ROC')\n",
        "    print(auc_novs)\n",
        "    print('------------------------------------------------------')\n",
        "\n",
        "    plt.figure()\n",
        "    lw = 2\n",
        "\n",
        "    plt.plot(roc_novs[0], roc_novs[1], color='darkgreen',\n",
        "    lw=lw, label='Without verification_status (AUC = %0.2f)' % auc_novs)\n",
        "    plt.plot([0, 1], [0, 1], color='navy', lw=lw, linestyle='--', label='Random guess')\n",
        "    plt.xlim([0.0, 1.0])\n",
        "    plt.ylim([0.0, 1.05])\n",
        "    plt.xlabel('False Positive Rate')\n",
        "    plt.ylabel('True Positive Rate')\n",
        "    plt.title('Classification of Defaulters')\n",
        "    plt.legend(loc=\"lower right\")\n",
        "    plt.show()\n",
        "\n",
        "plot_roc(pd.DataFrame(y_test).iloc[:,0].astype(int).tolist(), pd.DataFrame(y_pred).iloc[:,0].astype(int).tolist())\n"
      ],
      "execution_count": null,
      "outputs": [
        {
          "output_type": "stream",
          "text": [
            "AUC ROC\n",
            "0.5025374364365156\n",
            "------------------------------------------------------\n"
          ],
          "name": "stdout"
        },
        {
          "output_type": "display_data",
          "data": {
            "image/png": "[encoded data removed]",
            "text/plain": [
              "<Figure size 432x288 with 1 Axes>"
            ]
          },
          "metadata": {}
        }
      ]
    },
    {
      "cell_type": "markdown",
      "metadata": {
        "id": "2bOk5qJBlSYM"
      },
      "source": [
        "### Exercise 4: (5 mts)\n",
        "\n",
        "#### 4.1\n",
        "\n",
        "Consider `model1` from above. Would you want this to be your final model? Why or why not?"
      ]
    },
    {
      "cell_type": "markdown",
      "metadata": {
        "id": "l44aDvl0lSYN"
      },
      "source": [
        "**Answer:**"
      ]
    },
    {
      "cell_type": "markdown",
      "metadata": {
        "id": "cdlsYlWqlSYN"
      },
      "source": [
        "Sí, ya que la exactitud del modelo es de 75% aproximadamente y por el principio de la parsimonia sería un modelo adecuado."
      ]
    },
    {
      "cell_type": "markdown",
      "metadata": {
        "id": "nU2ijAmglSYN"
      },
      "source": [
        "#### 4.2\n",
        "\n",
        "Let's instead put all the variables available in the model, so that we are maximally leveraging our available info. Would you be in favor of this or not?"
      ]
    },
    {
      "cell_type": "code",
      "metadata": {
        "colab": {
          "base_uri": "https://localhost:8080/"
        },
        "id": "YL0Ym2EFlSYO",
        "outputId": "60802a5b-755f-47d4-f59d-6f2c5a3566c6"
      },
      "source": [
        "X = Data.drop(columns=['loan_default','application_type', 'grade', 'purpose', 'job', 'home_ownership']) # Features\n",
        "y = Data.loan_default\n",
        "\n",
        "y_test, y_pred = fit_logistic_regression(X,y,split = 0.3)"
      ],
      "execution_count": null,
      "outputs": [
        {
          "output_type": "stream",
          "text": [
            "Accuracy: 0.7766666666666666\n"
          ],
          "name": "stdout"
        }
      ]
    },
    {
      "cell_type": "markdown",
      "metadata": {
        "id": "WiNA-M3FlSYO"
      },
      "source": [
        "**Answer:**"
      ]
    },
    {
      "cell_type": "markdown",
      "metadata": {
        "id": "pCw3hmzKlSYP"
      },
      "source": [
        "Se concluye que añadir todas las variables al modelo no tiene mucho sentido, ya que la diferencia en la exactitud es de aproximadamente el 1% y agregar todas las variables podría sobreajustar el modelo."
      ]
    },
    {
      "cell_type": "markdown",
      "metadata": {
        "id": "GaRogFCKlSYP"
      },
      "source": [
        "## Cross-validation (30 mts)"
      ]
    },
    {
      "cell_type": "markdown",
      "metadata": {
        "id": "HAQKsq6olSYP"
      },
      "source": [
        "**Cross-validation** is a set of techniques for assessing how well the results of a model will generalize to an out-of-sample dataset; i.e. in practice or production. It is chiefly used to flag overfitting.\n",
        "\n",
        "Cross-validation works as follows: one splits the available data into $k$ sets, or **folds**. $k - 1$ of these folds will be used to train the model, while the held-out fold will be used as the test set on which the model is evaluated. For computational stability, this procedure is generally split many times, such that each fold has an opportunity to serve as the test set. For each repetition, a metric of prediction performance (e.g. AUC) is calculated on the test set. The average of these metrics, as well as their standard deviation, is then reported. An example is shown here for 5-fold cross-validation:"
      ]
    },
    {
      "cell_type": "markdown",
      "metadata": {
        "id": "MgIXiEJXlSYP"
      },
      "source": [
        "![](cv_fig.png)"
      ]
    },
    {
      "cell_type": "markdown",
      "metadata": {
        "id": "9OLx5JFdlSYQ"
      },
      "source": [
        "Let's do this with code. The following code displays the 5 different folds used in a standard 5-fold cross-validation approach. To do so, use the `StratifiedKFold()` function from `scikit-learn`:"
      ]
    },
    {
      "cell_type": "code",
      "metadata": {
        "colab": {
          "base_uri": "https://localhost:8080/",
          "height": 299
        },
        "id": "k_HmmGZ8lSYQ",
        "outputId": "a49200ec-a3a1-483a-a7d2-75bd77e35df5"
      },
      "source": [
        "skf = StratifiedKFold(n_splits=5)\n",
        "for k, (train_index, test_index) in enumerate( skf.split(X, y) ):\n",
        "    plt.plot(train_index, [k+1 for _ in train_index], \".\")\n",
        "plt.ylim(0,6)\n",
        "plt.ylabel(\"FOLD\")\n",
        "plt.title(\"CROSS VALIDATION FOLDS\")"
      ],
      "execution_count": null,
      "outputs": [
        {
          "output_type": "execute_result",
          "data": {
            "text/plain": [
              "Text(0.5, 1.0, 'CROSS VALIDATION FOLDS')"
            ]
          },
          "metadata": {},
          "execution_count": 29
        },
        {
          "output_type": "display_data",
          "data": {
            "image/png": "[encoded data removed]",
            "text/plain": [
              "<Figure size 432x288 with 1 Axes>"
            ]
          },
          "metadata": {}
        }
      ]
    },
    {
      "cell_type": "markdown",
      "metadata": {
        "id": "BZMQsAlJlSYR"
      },
      "source": [
        "The following code defines a function `compute_AUC(X, y, train_index, test_index)` that computes the AUC of a model trained on \"train_index\" and tested in \"test_index\"."
      ]
    },
    {
      "cell_type": "code",
      "metadata": {
        "id": "xyUFQRRRlSYR"
      },
      "source": [
        "def compute_AUC(X, y, train_index, test_index):\n",
        "    \"\"\"\n",
        "    feature/output: X, y\n",
        "    dataset split: train_index, test_index\n",
        "    \"\"\"\n",
        "    X_train, y_train = X.iloc[train_index], y.iloc[train_index]\n",
        "    X_test, y_test = X.iloc[test_index], y.iloc[test_index]\n",
        "\n",
        "    clf = fit_logistic_regression(X_train, y_train, split=0.3)\n",
        "    default_proba_test = clf.predict_proba(X_test)[:,1]  \n",
        "    fpr, tpr, _ = roc_curve(y_test, default_proba_test)\n",
        "    auc_score = auc(fpr, tpr)\n",
        "    return auc_score, fpr, tpr"
      ],
      "execution_count": null,
      "outputs": []
    },
    {
      "cell_type": "markdown",
      "metadata": {
        "id": "TfMEtdCwlSYS"
      },
      "source": [
        "### Exercise 5: (5 mts)\n",
        "\n",
        "With the help of the `compute_AUC` function defined above, write a function `cross_validation_AUC(X,y,nfold)` that carries out a 10-fold cross-validation and returns a list which contains the area under the curve for each fold of the cross-validation."
      ]
    },
    {
      "cell_type": "markdown",
      "metadata": {
        "id": "ft33LQxglSYS"
      },
      "source": [
        "**Answer:**"
      ]
    },
    {
      "cell_type": "code",
      "metadata": {
        "id": "if0DoFZQlSYS"
      },
      "source": [
        "from scipy import mean\n",
        "def cross_validation_AUC(X,y,nfold):\n",
        "    AUC = []\n",
        "    skf = StratifiedKFold(n_splits=nfold)\n",
        "    for train_index, test_index in skf.split(X, y) :\n",
        "        auc_score, fpr, tpr = compute_AUC(X, y, train_index, test_index)\n",
        "        AUC.append(auc_score)\n",
        "    auc_listas = AUC   \n",
        "    return auc_listas"
      ],
      "execution_count": null,
      "outputs": []
    },
    {
      "cell_type": "code",
      "metadata": {
        "id": "qRYOR_91lSYS"
      },
      "source": [
        "X = Data[['install_income']] # Features\n",
        "y = Data.loan_default\n",
        "lista_1 = cross_validation_AUC(X, y, nfold = 10)"
      ],
      "execution_count": null,
      "outputs": []
    },
    {
      "cell_type": "code",
      "metadata": {
        "id": "KN4xNqiIlSYU"
      },
      "source": [
        "X = Data.drop(columns=['loan_default','application_type', 'grade', 'purpose', 'job', 'home_ownership']) # Features\n",
        "y = Data.loan_default\n",
        "lista_2 =cross_validation_AUC(X, y, nfold = 10)"
      ],
      "execution_count": null,
      "outputs": []
    },
    {
      "cell_type": "markdown",
      "metadata": {
        "id": "FiVBdnDulSYU"
      },
      "source": [
        "__________"
      ]
    },
    {
      "cell_type": "markdown",
      "metadata": {
        "id": "a4erTJ7NlSYU"
      },
      "source": [
        "We will now estimate and compare, through cross-validation analysis, the performance of all the \"simple models\" that only use one numerical feature as input. As discussed in the EDA section, we will use the logarithmic transform for the `anual_income`, `loan_amount`, and `avg_cur_bal` variables:"
      ]
    },
    {
      "cell_type": "code",
      "metadata": {
        "id": "UdJlmeuelSYU"
      },
      "source": [
        "# let us extract only the numerical (i.e non-categorical) features\n",
        "numerics = ['int16', 'int32', 'int64', 'float16', 'float32', 'float64']\n",
        "Data_numerics = Data.select_dtypes(include=numerics)\n",
        "Data_numerics = Data_numerics.drop([\"installment\", \"year\"], axis=1)\n",
        "\n",
        "# Using a log scale when appropriate\n",
        "Data_numerics[\"annual_inc\"] = np.log10(Data_numerics[\"annual_inc\"])\n",
        "Data_numerics[\"loan_amnt\"] = np.log10(Data_numerics[\"loan_amnt\"])\n",
        "Data_numerics[\"avg_cur_bal\"] = np.log10(1.+Data_numerics[\"avg_cur_bal\"])"
      ],
      "execution_count": null,
      "outputs": []
    },
    {
      "cell_type": "markdown",
      "metadata": {
        "id": "waDcFMgClSYU"
      },
      "source": [
        "Let's compute cross-validation estimates of the AUC for each single-feature model:"
      ]
    },
    {
      "cell_type": "code",
      "metadata": {
        "id": "IvDWYyRqlSYU"
      },
      "source": [
        "model_perf = pd.DataFrame({}) #this data-frame will contain the AUC estimates\n",
        "for key in Data_numerics.keys():\n",
        "    if key == \"loan_default\": continue\n",
        "    X_full, y_full = Data_numerics[[key]], Data_numerics.loan_default\n",
        "    auc_list = cross_validation_AUC(X_full, y_full, nfold=10)\n",
        "    model_perf[\"SIMPLE:\" + key] = auc_list"
      ],
      "execution_count": null,
      "outputs": []
    },
    {
      "cell_type": "code",
      "metadata": {
        "colab": {
          "base_uri": "https://localhost:8080/",
          "height": 383
        },
        "id": "4GrT956dlSYU",
        "outputId": "0912149d-adf5-4dbb-dcea-9d02bbceac8f"
      },
      "source": [
        "model_perf"
      ],
      "execution_count": null,
      "outputs": [
        {
          "output_type": "execute_result",
          "data": {
            "text/html": [
              "<div>\n",
              "<style scoped>\n",
              "    .dataframe tbody tr th:only-of-type {\n",
              "        vertical-align: middle;\n",
              "    }\n",
              "\n",
              "    .dataframe tbody tr th {\n",
              "        vertical-align: top;\n",
              "    }\n",
              "\n",
              "    .dataframe thead th {\n",
              "        text-align: right;\n",
              "    }\n",
              "</style>\n",
              "<table border=\"1\" class=\"dataframe\">\n",
              "  <thead>\n",
              "    <tr style=\"text-align: right;\">\n",
              "      <th></th>\n",
              "      <th>SIMPLE:annual_inc</th>\n",
              "      <th>SIMPLE:avg_cur_bal</th>\n",
              "      <th>SIMPLE:chargeoff_within_12_mths</th>\n",
              "      <th>SIMPLE:delinq_2yrs</th>\n",
              "      <th>SIMPLE:dti</th>\n",
              "      <th>SIMPLE:emp_length</th>\n",
              "      <th>SIMPLE:inq_last_12m</th>\n",
              "      <th>SIMPLE:loan_amnt</th>\n",
              "      <th>SIMPLE:num_actv_bc_tl</th>\n",
              "      <th>SIMPLE:pub_rec_bankruptcies</th>\n",
              "      <th>SIMPLE:term</th>\n",
              "      <th>SIMPLE:mort_acc</th>\n",
              "      <th>SIMPLE:num_tl_90g_dpd_24m</th>\n",
              "      <th>SIMPLE:install_income</th>\n",
              "    </tr>\n",
              "  </thead>\n",
              "  <tbody>\n",
              "    <tr>\n",
              "      <th>0</th>\n",
              "      <td>0.554410</td>\n",
              "      <td>0.542259</td>\n",
              "      <td>0.494783</td>\n",
              "      <td>0.501942</td>\n",
              "      <td>0.573698</td>\n",
              "      <td>0.537041</td>\n",
              "      <td>0.590830</td>\n",
              "      <td>0.567871</td>\n",
              "      <td>0.509689</td>\n",
              "      <td>0.467544</td>\n",
              "      <td>0.560926</td>\n",
              "      <td>0.548797</td>\n",
              "      <td>0.512456</td>\n",
              "      <td>0.621604</td>\n",
              "    </tr>\n",
              "    <tr>\n",
              "      <th>1</th>\n",
              "      <td>0.573744</td>\n",
              "      <td>0.568978</td>\n",
              "      <td>0.499142</td>\n",
              "      <td>0.478848</td>\n",
              "      <td>0.578566</td>\n",
              "      <td>0.530627</td>\n",
              "      <td>0.535325</td>\n",
              "      <td>0.607566</td>\n",
              "      <td>0.589080</td>\n",
              "      <td>0.488379</td>\n",
              "      <td>0.580407</td>\n",
              "      <td>0.599481</td>\n",
              "      <td>0.484404</td>\n",
              "      <td>0.661683</td>\n",
              "    </tr>\n",
              "    <tr>\n",
              "      <th>2</th>\n",
              "      <td>0.564472</td>\n",
              "      <td>0.575065</td>\n",
              "      <td>0.501750</td>\n",
              "      <td>0.508187</td>\n",
              "      <td>0.580305</td>\n",
              "      <td>0.546990</td>\n",
              "      <td>0.499435</td>\n",
              "      <td>0.499718</td>\n",
              "      <td>0.542823</td>\n",
              "      <td>0.515460</td>\n",
              "      <td>0.546527</td>\n",
              "      <td>0.579944</td>\n",
              "      <td>0.517527</td>\n",
              "      <td>0.564438</td>\n",
              "    </tr>\n",
              "    <tr>\n",
              "      <th>3</th>\n",
              "      <td>0.577538</td>\n",
              "      <td>0.526606</td>\n",
              "      <td>0.498701</td>\n",
              "      <td>0.507149</td>\n",
              "      <td>0.598125</td>\n",
              "      <td>0.518758</td>\n",
              "      <td>0.514850</td>\n",
              "      <td>0.554274</td>\n",
              "      <td>0.506200</td>\n",
              "      <td>0.497470</td>\n",
              "      <td>0.569565</td>\n",
              "      <td>0.536036</td>\n",
              "      <td>0.495099</td>\n",
              "      <td>0.639097</td>\n",
              "    </tr>\n",
              "    <tr>\n",
              "      <th>4</th>\n",
              "      <td>0.584190</td>\n",
              "      <td>0.584822</td>\n",
              "      <td>0.503049</td>\n",
              "      <td>0.486358</td>\n",
              "      <td>0.570695</td>\n",
              "      <td>0.496454</td>\n",
              "      <td>0.585251</td>\n",
              "      <td>0.567781</td>\n",
              "      <td>0.525409</td>\n",
              "      <td>0.487081</td>\n",
              "      <td>0.563523</td>\n",
              "      <td>0.578701</td>\n",
              "      <td>0.487250</td>\n",
              "      <td>0.664009</td>\n",
              "    </tr>\n",
              "    <tr>\n",
              "      <th>5</th>\n",
              "      <td>0.568786</td>\n",
              "      <td>0.532038</td>\n",
              "      <td>0.500452</td>\n",
              "      <td>0.458893</td>\n",
              "      <td>0.568504</td>\n",
              "      <td>0.555855</td>\n",
              "      <td>0.516194</td>\n",
              "      <td>0.529091</td>\n",
              "      <td>0.532829</td>\n",
              "      <td>0.505759</td>\n",
              "      <td>0.545737</td>\n",
              "      <td>0.548063</td>\n",
              "      <td>0.494241</td>\n",
              "      <td>0.582101</td>\n",
              "    </tr>\n",
              "    <tr>\n",
              "      <th>6</th>\n",
              "      <td>0.523343</td>\n",
              "      <td>0.544370</td>\n",
              "      <td>0.495257</td>\n",
              "      <td>0.503185</td>\n",
              "      <td>0.563467</td>\n",
              "      <td>0.490785</td>\n",
              "      <td>0.593586</td>\n",
              "      <td>0.563840</td>\n",
              "      <td>0.512851</td>\n",
              "      <td>0.507679</td>\n",
              "      <td>0.612196</td>\n",
              "      <td>0.558521</td>\n",
              "      <td>0.513676</td>\n",
              "      <td>0.586155</td>\n",
              "    </tr>\n",
              "    <tr>\n",
              "      <th>7</th>\n",
              "      <td>0.564710</td>\n",
              "      <td>0.573005</td>\n",
              "      <td>0.494819</td>\n",
              "      <td>0.475559</td>\n",
              "      <td>0.536815</td>\n",
              "      <td>0.492739</td>\n",
              "      <td>0.531963</td>\n",
              "      <td>0.553586</td>\n",
              "      <td>0.485320</td>\n",
              "      <td>0.502432</td>\n",
              "      <td>0.604400</td>\n",
              "      <td>0.538917</td>\n",
              "      <td>0.474889</td>\n",
              "      <td>0.596696</td>\n",
              "    </tr>\n",
              "    <tr>\n",
              "      <th>8</th>\n",
              "      <td>0.549257</td>\n",
              "      <td>0.518555</td>\n",
              "      <td>0.496114</td>\n",
              "      <td>0.549484</td>\n",
              "      <td>0.596809</td>\n",
              "      <td>0.494512</td>\n",
              "      <td>0.559108</td>\n",
              "      <td>0.584504</td>\n",
              "      <td>0.521453</td>\n",
              "      <td>0.516635</td>\n",
              "      <td>0.583174</td>\n",
              "      <td>0.545144</td>\n",
              "      <td>0.517328</td>\n",
              "      <td>0.637806</td>\n",
              "    </tr>\n",
              "    <tr>\n",
              "      <th>9</th>\n",
              "      <td>0.525248</td>\n",
              "      <td>0.560131</td>\n",
              "      <td>0.504863</td>\n",
              "      <td>0.529747</td>\n",
              "      <td>0.572391</td>\n",
              "      <td>0.480649</td>\n",
              "      <td>0.539156</td>\n",
              "      <td>0.574720</td>\n",
              "      <td>0.530656</td>\n",
              "      <td>0.486149</td>\n",
              "      <td>0.548087</td>\n",
              "      <td>0.577470</td>\n",
              "      <td>0.518873</td>\n",
              "      <td>0.602070</td>\n",
              "    </tr>\n",
              "  </tbody>\n",
              "</table>\n",
              "</div>"
            ],
            "text/plain": [
              "   SIMPLE:annual_inc  ...  SIMPLE:install_income\n",
              "0           0.554410  ...               0.621604\n",
              "1           0.573744  ...               0.661683\n",
              "2           0.564472  ...               0.564438\n",
              "3           0.577538  ...               0.639097\n",
              "4           0.584190  ...               0.664009\n",
              "5           0.568786  ...               0.582101\n",
              "6           0.523343  ...               0.586155\n",
              "7           0.564710  ...               0.596696\n",
              "8           0.549257  ...               0.637806\n",
              "9           0.525248  ...               0.602070\n",
              "\n",
              "[10 rows x 14 columns]"
            ]
          },
          "metadata": {},
          "execution_count": 37
        }
      ]
    },
    {
      "cell_type": "markdown",
      "metadata": {
        "id": "mhx_SaPvlSYV"
      },
      "source": [
        "### Exercise 6: (5 mts)\n",
        "\n",
        "Construct a boxplot which shows the distribution of cross-validation scores of each variable (remember, each variable has 10 total scores). Which feature has the highest/lowest predictive power?"
      ]
    },
    {
      "cell_type": "markdown",
      "metadata": {
        "id": "SabJi0fKlSYV"
      },
      "source": [
        "**Answer:**"
      ]
    },
    {
      "cell_type": "code",
      "metadata": {
        "colab": {
          "base_uri": "https://localhost:8080/",
          "height": 282
        },
        "id": "BpuCiMwTlSYV",
        "outputId": "93620f36-746e-47d2-b5e0-f53957b1f82d"
      },
      "source": [
        "sns.boxplot(data = model_perf,  orient=\"h\" ,showfliers=False)"
      ],
      "execution_count": null,
      "outputs": [
        {
          "output_type": "execute_result",
          "data": {
            "text/plain": [
              "<matplotlib.axes._subplots.AxesSubplot at 0x7f8895126c90>"
            ]
          },
          "metadata": {},
          "execution_count": 38
        },
        {
          "output_type": "display_data",
          "data": {
            "image/png": "[encoded data removed]",
            "text/plain": [
              "<Figure size 432x288 with 1 Axes>"
            ]
          },
          "metadata": {}
        }
      ]
    },
    {
      "cell_type": "markdown",
      "metadata": {
        "id": "pcX_IwCXoJi6"
      },
      "source": [
        "La mejor variable predictora sería la proporción del ingreso neto anual que es destinado al pago de la cuota del crédito (install_income) y la peor variable para predecir el impago es el número de veces que una persona se atraza en mas de 30 días para el pago de sus obligaciones de los últimos 2 años (delinq_2yrs)."
      ]
    },
    {
      "cell_type": "markdown",
      "metadata": {
        "id": "nXIOEvr4lSYW"
      },
      "source": [
        "### Exercise 7: (5 mts)\n",
        "\n",
        "Consider the model that consists of using *all* the numerical features (and none of the categorical features). Carry out a 10-fold cross-validation analysis to determine whether this model has better predictive performance than the best single-feature model. Use the boxplot method again as we did in Exercise 7."
      ]
    },
    {
      "cell_type": "markdown",
      "metadata": {
        "id": "r0GaJJl2lSYW"
      },
      "source": [
        "**Answer:**"
      ]
    },
    {
      "cell_type": "code",
      "metadata": {
        "colab": {
          "base_uri": "https://localhost:8080/",
          "height": 320
        },
        "id": "4489GJiKlSYX",
        "outputId": "a3023ca4-10aa-429d-b966-5887e969364b"
      },
      "source": [
        "X = Data.drop(columns=['loan_default','application_type', 'grade', 'purpose', 'job', 'home_ownership']) # Features\n",
        "y = Data.loan_default\n",
        "lista_2 = cross_validation_AUC(X, y, nfold = 10)\n",
        "print(lista_2)\n",
        "sns.boxplot(data = lista_2,  orient=\"h\" ,showfliers=False)"
      ],
      "execution_count": null,
      "outputs": [
        {
          "output_type": "stream",
          "text": [
            "[0.6716431394692264, 0.7152343308865049, 0.6423941276115188, 0.6683229813664596, 0.7050028232636929, 0.5804404291360813, 0.6765894974590627, 0.6467593855104081, 0.6659167348422871, 0.674484137805654]\n"
          ],
          "name": "stdout"
        },
        {
          "output_type": "execute_result",
          "data": {
            "text/plain": [
              "<matplotlib.axes._subplots.AxesSubplot at 0x7f88954a4650>"
            ]
          },
          "metadata": {},
          "execution_count": 39
        },
        {
          "output_type": "display_data",
          "data": {
            "image/png": "[encoded data removed]",
            "text/plain": [
              "<Figure size 432x288 with 1 Axes>"
            ]
          },
          "metadata": {}
        }
      ]
    },
    {
      "cell_type": "markdown",
      "metadata": {
        "id": "ZjI-Epj_CyGN"
      },
      "source": [
        "De acuerdo al gráfico anterior, podemos concluir que hay una leve mejora en la efectividad del modelo, solo tomando las variables numéricas."
      ]
    },
    {
      "cell_type": "markdown",
      "metadata": {
        "id": "tkiChafGlSYX"
      },
      "source": [
        "## Incorporating categorical variables (25 mts)"
      ]
    },
    {
      "cell_type": "markdown",
      "metadata": {
        "id": "zRZRcar1lSYX"
      },
      "source": [
        "The grade of a loan (i.e. the LC-assigned loan grade feature) has not been used so far. The following is the distribution of the categorical grade feature:"
      ]
    },
    {
      "cell_type": "code",
      "metadata": {
        "colab": {
          "base_uri": "https://localhost:8080/",
          "height": 300
        },
        "id": "H1dwwQnrlSYY",
        "outputId": "935a2726-099e-4a24-9cc9-b8c3ae94f5df"
      },
      "source": [
        "Data.emp_length.value_counts()\n",
        "sns.countplot(x='grade', data = Data) \n",
        "plt.xticks(rotation=90)"
      ],
      "execution_count": null,
      "outputs": [
        {
          "output_type": "execute_result",
          "data": {
            "text/plain": [
              "(array([0, 1, 2, 3, 4, 5, 6]), <a list of 7 Text major ticklabel objects>)"
            ]
          },
          "metadata": {},
          "execution_count": 40
        },
        {
          "output_type": "display_data",
          "data": {
            "image/png": "[encoded data removed]",
            "text/plain": [
              "<Figure size 432x288 with 1 Axes>"
            ]
          },
          "metadata": {}
        }
      ]
    },
    {
      "cell_type": "markdown",
      "metadata": {
        "id": "sBHkKgSVlSYa"
      },
      "source": [
        "### Exercise 8: (5 mts)\n",
        "\n",
        "#### 8.1\n",
        "\n",
        "Use `pandas.get_dummies()` to transform this into its one-hot encoded version."
      ]
    },
    {
      "cell_type": "markdown",
      "metadata": {
        "id": "Hydqj4pJlSYb"
      },
      "source": [
        "**Answer:**"
      ]
    },
    {
      "cell_type": "code",
      "metadata": {
        "id": "DNTmbvozlSYc",
        "colab": {
          "base_uri": "https://localhost:8080/",
          "height": 461
        },
        "outputId": "f2b18b7d-1f81-4a3a-f620-6e55e1f902b9"
      },
      "source": [
        "cols = ['application_type', 'grade', 'purpose', 'job', 'home_ownership'] \n",
        "Data_dum = pd.get_dummies(data = Data,columns=cols)\n",
        "Data_dum"
      ],
      "execution_count": null,
      "outputs": [
        {
          "output_type": "execute_result",
          "data": {
            "text/html": [
              "<div>\n",
              "<style scoped>\n",
              "    .dataframe tbody tr th:only-of-type {\n",
              "        vertical-align: middle;\n",
              "    }\n",
              "\n",
              "    .dataframe tbody tr th {\n",
              "        vertical-align: top;\n",
              "    }\n",
              "\n",
              "    .dataframe thead th {\n",
              "        text-align: right;\n",
              "    }\n",
              "</style>\n",
              "<table border=\"1\" class=\"dataframe\">\n",
              "  <thead>\n",
              "    <tr style=\"text-align: right;\">\n",
              "      <th></th>\n",
              "      <th>annual_inc</th>\n",
              "      <th>avg_cur_bal</th>\n",
              "      <th>chargeoff_within_12_mths</th>\n",
              "      <th>delinq_2yrs</th>\n",
              "      <th>dti</th>\n",
              "      <th>emp_length</th>\n",
              "      <th>inq_last_12m</th>\n",
              "      <th>installment</th>\n",
              "      <th>loan_amnt</th>\n",
              "      <th>num_actv_bc_tl</th>\n",
              "      <th>pub_rec_bankruptcies</th>\n",
              "      <th>term</th>\n",
              "      <th>mort_acc</th>\n",
              "      <th>num_tl_90g_dpd_24m</th>\n",
              "      <th>year</th>\n",
              "      <th>loan_default</th>\n",
              "      <th>install_income</th>\n",
              "      <th>application_type_Individual</th>\n",
              "      <th>application_type_Joint App</th>\n",
              "      <th>grade_A</th>\n",
              "      <th>grade_B</th>\n",
              "      <th>grade_C</th>\n",
              "      <th>grade_D</th>\n",
              "      <th>grade_E</th>\n",
              "      <th>grade_F</th>\n",
              "      <th>grade_G</th>\n",
              "      <th>purpose_car</th>\n",
              "      <th>purpose_credit_card</th>\n",
              "      <th>purpose_debt_consolidation</th>\n",
              "      <th>purpose_home_improvement</th>\n",
              "      <th>purpose_house</th>\n",
              "      <th>purpose_major_purchase</th>\n",
              "      <th>purpose_medical</th>\n",
              "      <th>purpose_moving</th>\n",
              "      <th>purpose_other</th>\n",
              "      <th>purpose_renewable_energy</th>\n",
              "      <th>purpose_small_business</th>\n",
              "      <th>purpose_vacation</th>\n",
              "      <th>job_accountant</th>\n",
              "      <th>job_accounting</th>\n",
              "      <th>...</th>\n",
              "      <th>job_planner</th>\n",
              "      <th>job_practitioner</th>\n",
              "      <th>job_president</th>\n",
              "      <th>job_principal</th>\n",
              "      <th>job_processor</th>\n",
              "      <th>job_production</th>\n",
              "      <th>job_professor</th>\n",
              "      <th>job_programmer</th>\n",
              "      <th>job_realtor</th>\n",
              "      <th>job_receptionist</th>\n",
              "      <th>job_recruiter</th>\n",
              "      <th>job_representative</th>\n",
              "      <th>job_resources</th>\n",
              "      <th>job_sales</th>\n",
              "      <th>job_scientist</th>\n",
              "      <th>job_secretary</th>\n",
              "      <th>job_security</th>\n",
              "      <th>job_sergeant</th>\n",
              "      <th>job_server</th>\n",
              "      <th>job_service</th>\n",
              "      <th>job_services</th>\n",
              "      <th>job_specialist</th>\n",
              "      <th>job_superintendent</th>\n",
              "      <th>job_supervisor</th>\n",
              "      <th>job_support</th>\n",
              "      <th>job_teacher</th>\n",
              "      <th>job_tech</th>\n",
              "      <th>job_technician</th>\n",
              "      <th>job_technologist</th>\n",
              "      <th>job_teller</th>\n",
              "      <th>job_therapist</th>\n",
              "      <th>job_trainer</th>\n",
              "      <th>job_underwriter</th>\n",
              "      <th>job_vp</th>\n",
              "      <th>job_warehouse</th>\n",
              "      <th>job_welder</th>\n",
              "      <th>job_worker</th>\n",
              "      <th>home_ownership_MORTGAGE</th>\n",
              "      <th>home_ownership_OWN</th>\n",
              "      <th>home_ownership_RENT</th>\n",
              "    </tr>\n",
              "  </thead>\n",
              "  <tbody>\n",
              "    <tr>\n",
              "      <th>2790</th>\n",
              "      <td>38000.0</td>\n",
              "      <td>2375.0</td>\n",
              "      <td>0.0</td>\n",
              "      <td>0.0</td>\n",
              "      <td>12.19</td>\n",
              "      <td>1</td>\n",
              "      <td>1.0</td>\n",
              "      <td>601.36</td>\n",
              "      <td>17100</td>\n",
              "      <td>5.0</td>\n",
              "      <td>0.0</td>\n",
              "      <td>36</td>\n",
              "      <td>0.0</td>\n",
              "      <td>0.0</td>\n",
              "      <td>2017</td>\n",
              "      <td>1</td>\n",
              "      <td>0.189903</td>\n",
              "      <td>1</td>\n",
              "      <td>0</td>\n",
              "      <td>0</td>\n",
              "      <td>0</td>\n",
              "      <td>1</td>\n",
              "      <td>0</td>\n",
              "      <td>0</td>\n",
              "      <td>0</td>\n",
              "      <td>0</td>\n",
              "      <td>0</td>\n",
              "      <td>0</td>\n",
              "      <td>1</td>\n",
              "      <td>0</td>\n",
              "      <td>0</td>\n",
              "      <td>0</td>\n",
              "      <td>0</td>\n",
              "      <td>0</td>\n",
              "      <td>0</td>\n",
              "      <td>0</td>\n",
              "      <td>0</td>\n",
              "      <td>0</td>\n",
              "      <td>0</td>\n",
              "      <td>0</td>\n",
              "      <td>...</td>\n",
              "      <td>0</td>\n",
              "      <td>0</td>\n",
              "      <td>0</td>\n",
              "      <td>0</td>\n",
              "      <td>0</td>\n",
              "      <td>0</td>\n",
              "      <td>0</td>\n",
              "      <td>0</td>\n",
              "      <td>0</td>\n",
              "      <td>0</td>\n",
              "      <td>0</td>\n",
              "      <td>0</td>\n",
              "      <td>0</td>\n",
              "      <td>0</td>\n",
              "      <td>0</td>\n",
              "      <td>0</td>\n",
              "      <td>0</td>\n",
              "      <td>0</td>\n",
              "      <td>0</td>\n",
              "      <td>0</td>\n",
              "      <td>0</td>\n",
              "      <td>0</td>\n",
              "      <td>0</td>\n",
              "      <td>0</td>\n",
              "      <td>0</td>\n",
              "      <td>0</td>\n",
              "      <td>0</td>\n",
              "      <td>0</td>\n",
              "      <td>0</td>\n",
              "      <td>0</td>\n",
              "      <td>0</td>\n",
              "      <td>0</td>\n",
              "      <td>0</td>\n",
              "      <td>0</td>\n",
              "      <td>0</td>\n",
              "      <td>0</td>\n",
              "      <td>0</td>\n",
              "      <td>0</td>\n",
              "      <td>1</td>\n",
              "      <td>0</td>\n",
              "    </tr>\n",
              "    <tr>\n",
              "      <th>1822</th>\n",
              "      <td>55000.0</td>\n",
              "      <td>20371.0</td>\n",
              "      <td>0.0</td>\n",
              "      <td>0.0</td>\n",
              "      <td>21.19</td>\n",
              "      <td>1</td>\n",
              "      <td>1.0</td>\n",
              "      <td>586.45</td>\n",
              "      <td>17500</td>\n",
              "      <td>4.0</td>\n",
              "      <td>0.0</td>\n",
              "      <td>36</td>\n",
              "      <td>2.0</td>\n",
              "      <td>0.0</td>\n",
              "      <td>2017</td>\n",
              "      <td>0</td>\n",
              "      <td>0.127953</td>\n",
              "      <td>0</td>\n",
              "      <td>1</td>\n",
              "      <td>0</td>\n",
              "      <td>0</td>\n",
              "      <td>1</td>\n",
              "      <td>0</td>\n",
              "      <td>0</td>\n",
              "      <td>0</td>\n",
              "      <td>0</td>\n",
              "      <td>0</td>\n",
              "      <td>1</td>\n",
              "      <td>0</td>\n",
              "      <td>0</td>\n",
              "      <td>0</td>\n",
              "      <td>0</td>\n",
              "      <td>0</td>\n",
              "      <td>0</td>\n",
              "      <td>0</td>\n",
              "      <td>0</td>\n",
              "      <td>0</td>\n",
              "      <td>0</td>\n",
              "      <td>0</td>\n",
              "      <td>0</td>\n",
              "      <td>...</td>\n",
              "      <td>0</td>\n",
              "      <td>0</td>\n",
              "      <td>0</td>\n",
              "      <td>0</td>\n",
              "      <td>0</td>\n",
              "      <td>0</td>\n",
              "      <td>1</td>\n",
              "      <td>0</td>\n",
              "      <td>0</td>\n",
              "      <td>0</td>\n",
              "      <td>0</td>\n",
              "      <td>0</td>\n",
              "      <td>0</td>\n",
              "      <td>0</td>\n",
              "      <td>0</td>\n",
              "      <td>0</td>\n",
              "      <td>0</td>\n",
              "      <td>0</td>\n",
              "      <td>0</td>\n",
              "      <td>0</td>\n",
              "      <td>0</td>\n",
              "      <td>0</td>\n",
              "      <td>0</td>\n",
              "      <td>0</td>\n",
              "      <td>0</td>\n",
              "      <td>0</td>\n",
              "      <td>0</td>\n",
              "      <td>0</td>\n",
              "      <td>0</td>\n",
              "      <td>0</td>\n",
              "      <td>0</td>\n",
              "      <td>0</td>\n",
              "      <td>0</td>\n",
              "      <td>0</td>\n",
              "      <td>0</td>\n",
              "      <td>0</td>\n",
              "      <td>0</td>\n",
              "      <td>1</td>\n",
              "      <td>0</td>\n",
              "      <td>0</td>\n",
              "    </tr>\n",
              "    <tr>\n",
              "      <th>2857</th>\n",
              "      <td>45000.0</td>\n",
              "      <td>2437.0</td>\n",
              "      <td>0.0</td>\n",
              "      <td>0.0</td>\n",
              "      <td>17.09</td>\n",
              "      <td>10</td>\n",
              "      <td>0.0</td>\n",
              "      <td>308.64</td>\n",
              "      <td>10000</td>\n",
              "      <td>2.0</td>\n",
              "      <td>0.0</td>\n",
              "      <td>36</td>\n",
              "      <td>0.0</td>\n",
              "      <td>0.0</td>\n",
              "      <td>2016</td>\n",
              "      <td>0</td>\n",
              "      <td>0.082304</td>\n",
              "      <td>1</td>\n",
              "      <td>0</td>\n",
              "      <td>1</td>\n",
              "      <td>0</td>\n",
              "      <td>0</td>\n",
              "      <td>0</td>\n",
              "      <td>0</td>\n",
              "      <td>0</td>\n",
              "      <td>0</td>\n",
              "      <td>0</td>\n",
              "      <td>1</td>\n",
              "      <td>0</td>\n",
              "      <td>0</td>\n",
              "      <td>0</td>\n",
              "      <td>0</td>\n",
              "      <td>0</td>\n",
              "      <td>0</td>\n",
              "      <td>0</td>\n",
              "      <td>0</td>\n",
              "      <td>0</td>\n",
              "      <td>0</td>\n",
              "      <td>0</td>\n",
              "      <td>0</td>\n",
              "      <td>...</td>\n",
              "      <td>0</td>\n",
              "      <td>0</td>\n",
              "      <td>0</td>\n",
              "      <td>0</td>\n",
              "      <td>0</td>\n",
              "      <td>0</td>\n",
              "      <td>0</td>\n",
              "      <td>0</td>\n",
              "      <td>0</td>\n",
              "      <td>0</td>\n",
              "      <td>0</td>\n",
              "      <td>0</td>\n",
              "      <td>0</td>\n",
              "      <td>0</td>\n",
              "      <td>0</td>\n",
              "      <td>0</td>\n",
              "      <td>0</td>\n",
              "      <td>0</td>\n",
              "      <td>0</td>\n",
              "      <td>0</td>\n",
              "      <td>0</td>\n",
              "      <td>0</td>\n",
              "      <td>0</td>\n",
              "      <td>0</td>\n",
              "      <td>0</td>\n",
              "      <td>1</td>\n",
              "      <td>0</td>\n",
              "      <td>0</td>\n",
              "      <td>0</td>\n",
              "      <td>0</td>\n",
              "      <td>0</td>\n",
              "      <td>0</td>\n",
              "      <td>0</td>\n",
              "      <td>0</td>\n",
              "      <td>0</td>\n",
              "      <td>0</td>\n",
              "      <td>0</td>\n",
              "      <td>0</td>\n",
              "      <td>0</td>\n",
              "      <td>1</td>\n",
              "    </tr>\n",
              "    <tr>\n",
              "      <th>4776</th>\n",
              "      <td>125000.0</td>\n",
              "      <td>10340.0</td>\n",
              "      <td>0.0</td>\n",
              "      <td>2.0</td>\n",
              "      <td>14.10</td>\n",
              "      <td>1</td>\n",
              "      <td>4.0</td>\n",
              "      <td>874.93</td>\n",
              "      <td>35000</td>\n",
              "      <td>2.0</td>\n",
              "      <td>0.0</td>\n",
              "      <td>60</td>\n",
              "      <td>3.0</td>\n",
              "      <td>0.0</td>\n",
              "      <td>2015</td>\n",
              "      <td>0</td>\n",
              "      <td>0.083993</td>\n",
              "      <td>1</td>\n",
              "      <td>0</td>\n",
              "      <td>0</td>\n",
              "      <td>0</td>\n",
              "      <td>0</td>\n",
              "      <td>1</td>\n",
              "      <td>0</td>\n",
              "      <td>0</td>\n",
              "      <td>0</td>\n",
              "      <td>0</td>\n",
              "      <td>0</td>\n",
              "      <td>1</td>\n",
              "      <td>0</td>\n",
              "      <td>0</td>\n",
              "      <td>0</td>\n",
              "      <td>0</td>\n",
              "      <td>0</td>\n",
              "      <td>0</td>\n",
              "      <td>0</td>\n",
              "      <td>0</td>\n",
              "      <td>0</td>\n",
              "      <td>0</td>\n",
              "      <td>0</td>\n",
              "      <td>...</td>\n",
              "      <td>0</td>\n",
              "      <td>0</td>\n",
              "      <td>0</td>\n",
              "      <td>0</td>\n",
              "      <td>0</td>\n",
              "      <td>0</td>\n",
              "      <td>0</td>\n",
              "      <td>0</td>\n",
              "      <td>0</td>\n",
              "      <td>0</td>\n",
              "      <td>0</td>\n",
              "      <td>0</td>\n",
              "      <td>0</td>\n",
              "      <td>0</td>\n",
              "      <td>0</td>\n",
              "      <td>0</td>\n",
              "      <td>0</td>\n",
              "      <td>0</td>\n",
              "      <td>0</td>\n",
              "      <td>0</td>\n",
              "      <td>0</td>\n",
              "      <td>0</td>\n",
              "      <td>0</td>\n",
              "      <td>0</td>\n",
              "      <td>0</td>\n",
              "      <td>0</td>\n",
              "      <td>0</td>\n",
              "      <td>0</td>\n",
              "      <td>0</td>\n",
              "      <td>0</td>\n",
              "      <td>0</td>\n",
              "      <td>0</td>\n",
              "      <td>0</td>\n",
              "      <td>0</td>\n",
              "      <td>0</td>\n",
              "      <td>0</td>\n",
              "      <td>0</td>\n",
              "      <td>1</td>\n",
              "      <td>0</td>\n",
              "      <td>0</td>\n",
              "    </tr>\n",
              "    <tr>\n",
              "      <th>4482</th>\n",
              "      <td>70000.0</td>\n",
              "      <td>2089.0</td>\n",
              "      <td>0.0</td>\n",
              "      <td>0.0</td>\n",
              "      <td>9.12</td>\n",
              "      <td>3</td>\n",
              "      <td>0.0</td>\n",
              "      <td>848.27</td>\n",
              "      <td>25000</td>\n",
              "      <td>4.0</td>\n",
              "      <td>0.0</td>\n",
              "      <td>36</td>\n",
              "      <td>0.0</td>\n",
              "      <td>0.0</td>\n",
              "      <td>2017</td>\n",
              "      <td>0</td>\n",
              "      <td>0.145418</td>\n",
              "      <td>1</td>\n",
              "      <td>0</td>\n",
              "      <td>0</td>\n",
              "      <td>0</td>\n",
              "      <td>1</td>\n",
              "      <td>0</td>\n",
              "      <td>0</td>\n",
              "      <td>0</td>\n",
              "      <td>0</td>\n",
              "      <td>0</td>\n",
              "      <td>0</td>\n",
              "      <td>1</td>\n",
              "      <td>0</td>\n",
              "      <td>0</td>\n",
              "      <td>0</td>\n",
              "      <td>0</td>\n",
              "      <td>0</td>\n",
              "      <td>0</td>\n",
              "      <td>0</td>\n",
              "      <td>0</td>\n",
              "      <td>0</td>\n",
              "      <td>0</td>\n",
              "      <td>0</td>\n",
              "      <td>...</td>\n",
              "      <td>0</td>\n",
              "      <td>0</td>\n",
              "      <td>0</td>\n",
              "      <td>0</td>\n",
              "      <td>0</td>\n",
              "      <td>0</td>\n",
              "      <td>0</td>\n",
              "      <td>0</td>\n",
              "      <td>0</td>\n",
              "      <td>0</td>\n",
              "      <td>0</td>\n",
              "      <td>0</td>\n",
              "      <td>0</td>\n",
              "      <td>0</td>\n",
              "      <td>0</td>\n",
              "      <td>0</td>\n",
              "      <td>0</td>\n",
              "      <td>0</td>\n",
              "      <td>0</td>\n",
              "      <td>0</td>\n",
              "      <td>0</td>\n",
              "      <td>0</td>\n",
              "      <td>0</td>\n",
              "      <td>0</td>\n",
              "      <td>0</td>\n",
              "      <td>0</td>\n",
              "      <td>0</td>\n",
              "      <td>0</td>\n",
              "      <td>0</td>\n",
              "      <td>0</td>\n",
              "      <td>0</td>\n",
              "      <td>0</td>\n",
              "      <td>0</td>\n",
              "      <td>0</td>\n",
              "      <td>0</td>\n",
              "      <td>0</td>\n",
              "      <td>0</td>\n",
              "      <td>0</td>\n",
              "      <td>0</td>\n",
              "      <td>1</td>\n",
              "    </tr>\n",
              "    <tr>\n",
              "      <th>...</th>\n",
              "      <td>...</td>\n",
              "      <td>...</td>\n",
              "      <td>...</td>\n",
              "      <td>...</td>\n",
              "      <td>...</td>\n",
              "      <td>...</td>\n",
              "      <td>...</td>\n",
              "      <td>...</td>\n",
              "      <td>...</td>\n",
              "      <td>...</td>\n",
              "      <td>...</td>\n",
              "      <td>...</td>\n",
              "      <td>...</td>\n",
              "      <td>...</td>\n",
              "      <td>...</td>\n",
              "      <td>...</td>\n",
              "      <td>...</td>\n",
              "      <td>...</td>\n",
              "      <td>...</td>\n",
              "      <td>...</td>\n",
              "      <td>...</td>\n",
              "      <td>...</td>\n",
              "      <td>...</td>\n",
              "      <td>...</td>\n",
              "      <td>...</td>\n",
              "      <td>...</td>\n",
              "      <td>...</td>\n",
              "      <td>...</td>\n",
              "      <td>...</td>\n",
              "      <td>...</td>\n",
              "      <td>...</td>\n",
              "      <td>...</td>\n",
              "      <td>...</td>\n",
              "      <td>...</td>\n",
              "      <td>...</td>\n",
              "      <td>...</td>\n",
              "      <td>...</td>\n",
              "      <td>...</td>\n",
              "      <td>...</td>\n",
              "      <td>...</td>\n",
              "      <td>...</td>\n",
              "      <td>...</td>\n",
              "      <td>...</td>\n",
              "      <td>...</td>\n",
              "      <td>...</td>\n",
              "      <td>...</td>\n",
              "      <td>...</td>\n",
              "      <td>...</td>\n",
              "      <td>...</td>\n",
              "      <td>...</td>\n",
              "      <td>...</td>\n",
              "      <td>...</td>\n",
              "      <td>...</td>\n",
              "      <td>...</td>\n",
              "      <td>...</td>\n",
              "      <td>...</td>\n",
              "      <td>...</td>\n",
              "      <td>...</td>\n",
              "      <td>...</td>\n",
              "      <td>...</td>\n",
              "      <td>...</td>\n",
              "      <td>...</td>\n",
              "      <td>...</td>\n",
              "      <td>...</td>\n",
              "      <td>...</td>\n",
              "      <td>...</td>\n",
              "      <td>...</td>\n",
              "      <td>...</td>\n",
              "      <td>...</td>\n",
              "      <td>...</td>\n",
              "      <td>...</td>\n",
              "      <td>...</td>\n",
              "      <td>...</td>\n",
              "      <td>...</td>\n",
              "      <td>...</td>\n",
              "      <td>...</td>\n",
              "      <td>...</td>\n",
              "      <td>...</td>\n",
              "      <td>...</td>\n",
              "      <td>...</td>\n",
              "      <td>...</td>\n",
              "    </tr>\n",
              "    <tr>\n",
              "      <th>3528</th>\n",
              "      <td>260000.0</td>\n",
              "      <td>38359.0</td>\n",
              "      <td>0.0</td>\n",
              "      <td>0.0</td>\n",
              "      <td>4.54</td>\n",
              "      <td>10</td>\n",
              "      <td>4.0</td>\n",
              "      <td>1153.67</td>\n",
              "      <td>35000</td>\n",
              "      <td>7.0</td>\n",
              "      <td>0.0</td>\n",
              "      <td>36</td>\n",
              "      <td>1.0</td>\n",
              "      <td>0.0</td>\n",
              "      <td>2016</td>\n",
              "      <td>0</td>\n",
              "      <td>0.053246</td>\n",
              "      <td>1</td>\n",
              "      <td>0</td>\n",
              "      <td>0</td>\n",
              "      <td>1</td>\n",
              "      <td>0</td>\n",
              "      <td>0</td>\n",
              "      <td>0</td>\n",
              "      <td>0</td>\n",
              "      <td>0</td>\n",
              "      <td>0</td>\n",
              "      <td>1</td>\n",
              "      <td>0</td>\n",
              "      <td>0</td>\n",
              "      <td>0</td>\n",
              "      <td>0</td>\n",
              "      <td>0</td>\n",
              "      <td>0</td>\n",
              "      <td>0</td>\n",
              "      <td>0</td>\n",
              "      <td>0</td>\n",
              "      <td>0</td>\n",
              "      <td>0</td>\n",
              "      <td>0</td>\n",
              "      <td>...</td>\n",
              "      <td>0</td>\n",
              "      <td>0</td>\n",
              "      <td>0</td>\n",
              "      <td>0</td>\n",
              "      <td>0</td>\n",
              "      <td>0</td>\n",
              "      <td>0</td>\n",
              "      <td>0</td>\n",
              "      <td>0</td>\n",
              "      <td>0</td>\n",
              "      <td>0</td>\n",
              "      <td>0</td>\n",
              "      <td>0</td>\n",
              "      <td>0</td>\n",
              "      <td>0</td>\n",
              "      <td>0</td>\n",
              "      <td>0</td>\n",
              "      <td>0</td>\n",
              "      <td>0</td>\n",
              "      <td>0</td>\n",
              "      <td>0</td>\n",
              "      <td>0</td>\n",
              "      <td>0</td>\n",
              "      <td>0</td>\n",
              "      <td>0</td>\n",
              "      <td>0</td>\n",
              "      <td>0</td>\n",
              "      <td>0</td>\n",
              "      <td>0</td>\n",
              "      <td>0</td>\n",
              "      <td>0</td>\n",
              "      <td>0</td>\n",
              "      <td>0</td>\n",
              "      <td>0</td>\n",
              "      <td>0</td>\n",
              "      <td>0</td>\n",
              "      <td>0</td>\n",
              "      <td>1</td>\n",
              "      <td>0</td>\n",
              "      <td>0</td>\n",
              "    </tr>\n",
              "    <tr>\n",
              "      <th>3722</th>\n",
              "      <td>90000.0</td>\n",
              "      <td>31537.0</td>\n",
              "      <td>0.0</td>\n",
              "      <td>0.0</td>\n",
              "      <td>18.27</td>\n",
              "      <td>6</td>\n",
              "      <td>1.0</td>\n",
              "      <td>743.90</td>\n",
              "      <td>22400</td>\n",
              "      <td>7.0</td>\n",
              "      <td>1.0</td>\n",
              "      <td>36</td>\n",
              "      <td>1.0</td>\n",
              "      <td>0.0</td>\n",
              "      <td>2017</td>\n",
              "      <td>0</td>\n",
              "      <td>0.099187</td>\n",
              "      <td>1</td>\n",
              "      <td>0</td>\n",
              "      <td>0</td>\n",
              "      <td>1</td>\n",
              "      <td>0</td>\n",
              "      <td>0</td>\n",
              "      <td>0</td>\n",
              "      <td>0</td>\n",
              "      <td>0</td>\n",
              "      <td>0</td>\n",
              "      <td>0</td>\n",
              "      <td>1</td>\n",
              "      <td>0</td>\n",
              "      <td>0</td>\n",
              "      <td>0</td>\n",
              "      <td>0</td>\n",
              "      <td>0</td>\n",
              "      <td>0</td>\n",
              "      <td>0</td>\n",
              "      <td>0</td>\n",
              "      <td>0</td>\n",
              "      <td>0</td>\n",
              "      <td>0</td>\n",
              "      <td>...</td>\n",
              "      <td>0</td>\n",
              "      <td>0</td>\n",
              "      <td>0</td>\n",
              "      <td>0</td>\n",
              "      <td>0</td>\n",
              "      <td>0</td>\n",
              "      <td>0</td>\n",
              "      <td>0</td>\n",
              "      <td>0</td>\n",
              "      <td>0</td>\n",
              "      <td>0</td>\n",
              "      <td>0</td>\n",
              "      <td>0</td>\n",
              "      <td>0</td>\n",
              "      <td>0</td>\n",
              "      <td>0</td>\n",
              "      <td>0</td>\n",
              "      <td>0</td>\n",
              "      <td>0</td>\n",
              "      <td>0</td>\n",
              "      <td>0</td>\n",
              "      <td>0</td>\n",
              "      <td>0</td>\n",
              "      <td>0</td>\n",
              "      <td>0</td>\n",
              "      <td>0</td>\n",
              "      <td>0</td>\n",
              "      <td>0</td>\n",
              "      <td>0</td>\n",
              "      <td>0</td>\n",
              "      <td>0</td>\n",
              "      <td>0</td>\n",
              "      <td>0</td>\n",
              "      <td>0</td>\n",
              "      <td>0</td>\n",
              "      <td>0</td>\n",
              "      <td>0</td>\n",
              "      <td>1</td>\n",
              "      <td>0</td>\n",
              "      <td>0</td>\n",
              "    </tr>\n",
              "    <tr>\n",
              "      <th>4405</th>\n",
              "      <td>68000.0</td>\n",
              "      <td>1849.0</td>\n",
              "      <td>0.0</td>\n",
              "      <td>0.0</td>\n",
              "      <td>17.00</td>\n",
              "      <td>9</td>\n",
              "      <td>3.0</td>\n",
              "      <td>712.96</td>\n",
              "      <td>20000</td>\n",
              "      <td>4.0</td>\n",
              "      <td>1.0</td>\n",
              "      <td>36</td>\n",
              "      <td>0.0</td>\n",
              "      <td>0.0</td>\n",
              "      <td>2016</td>\n",
              "      <td>0</td>\n",
              "      <td>0.125816</td>\n",
              "      <td>1</td>\n",
              "      <td>0</td>\n",
              "      <td>0</td>\n",
              "      <td>0</td>\n",
              "      <td>0</td>\n",
              "      <td>1</td>\n",
              "      <td>0</td>\n",
              "      <td>0</td>\n",
              "      <td>0</td>\n",
              "      <td>0</td>\n",
              "      <td>0</td>\n",
              "      <td>1</td>\n",
              "      <td>0</td>\n",
              "      <td>0</td>\n",
              "      <td>0</td>\n",
              "      <td>0</td>\n",
              "      <td>0</td>\n",
              "      <td>0</td>\n",
              "      <td>0</td>\n",
              "      <td>0</td>\n",
              "      <td>0</td>\n",
              "      <td>0</td>\n",
              "      <td>0</td>\n",
              "      <td>...</td>\n",
              "      <td>0</td>\n",
              "      <td>0</td>\n",
              "      <td>0</td>\n",
              "      <td>0</td>\n",
              "      <td>0</td>\n",
              "      <td>0</td>\n",
              "      <td>0</td>\n",
              "      <td>0</td>\n",
              "      <td>0</td>\n",
              "      <td>0</td>\n",
              "      <td>0</td>\n",
              "      <td>0</td>\n",
              "      <td>0</td>\n",
              "      <td>0</td>\n",
              "      <td>0</td>\n",
              "      <td>0</td>\n",
              "      <td>0</td>\n",
              "      <td>0</td>\n",
              "      <td>0</td>\n",
              "      <td>0</td>\n",
              "      <td>0</td>\n",
              "      <td>0</td>\n",
              "      <td>0</td>\n",
              "      <td>0</td>\n",
              "      <td>0</td>\n",
              "      <td>0</td>\n",
              "      <td>0</td>\n",
              "      <td>0</td>\n",
              "      <td>0</td>\n",
              "      <td>0</td>\n",
              "      <td>0</td>\n",
              "      <td>0</td>\n",
              "      <td>0</td>\n",
              "      <td>0</td>\n",
              "      <td>0</td>\n",
              "      <td>0</td>\n",
              "      <td>0</td>\n",
              "      <td>0</td>\n",
              "      <td>0</td>\n",
              "      <td>1</td>\n",
              "    </tr>\n",
              "    <tr>\n",
              "      <th>3968</th>\n",
              "      <td>68500.0</td>\n",
              "      <td>17577.0</td>\n",
              "      <td>0.0</td>\n",
              "      <td>0.0</td>\n",
              "      <td>27.45</td>\n",
              "      <td>3</td>\n",
              "      <td>6.0</td>\n",
              "      <td>978.27</td>\n",
              "      <td>32875</td>\n",
              "      <td>6.0</td>\n",
              "      <td>0.0</td>\n",
              "      <td>60</td>\n",
              "      <td>1.0</td>\n",
              "      <td>0.0</td>\n",
              "      <td>2016</td>\n",
              "      <td>1</td>\n",
              "      <td>0.171376</td>\n",
              "      <td>1</td>\n",
              "      <td>0</td>\n",
              "      <td>0</td>\n",
              "      <td>0</td>\n",
              "      <td>0</td>\n",
              "      <td>0</td>\n",
              "      <td>0</td>\n",
              "      <td>1</td>\n",
              "      <td>0</td>\n",
              "      <td>0</td>\n",
              "      <td>0</td>\n",
              "      <td>0</td>\n",
              "      <td>0</td>\n",
              "      <td>0</td>\n",
              "      <td>0</td>\n",
              "      <td>0</td>\n",
              "      <td>0</td>\n",
              "      <td>1</td>\n",
              "      <td>0</td>\n",
              "      <td>0</td>\n",
              "      <td>0</td>\n",
              "      <td>0</td>\n",
              "      <td>0</td>\n",
              "      <td>...</td>\n",
              "      <td>0</td>\n",
              "      <td>0</td>\n",
              "      <td>0</td>\n",
              "      <td>0</td>\n",
              "      <td>0</td>\n",
              "      <td>0</td>\n",
              "      <td>0</td>\n",
              "      <td>0</td>\n",
              "      <td>0</td>\n",
              "      <td>0</td>\n",
              "      <td>0</td>\n",
              "      <td>0</td>\n",
              "      <td>0</td>\n",
              "      <td>0</td>\n",
              "      <td>0</td>\n",
              "      <td>0</td>\n",
              "      <td>0</td>\n",
              "      <td>0</td>\n",
              "      <td>0</td>\n",
              "      <td>0</td>\n",
              "      <td>0</td>\n",
              "      <td>0</td>\n",
              "      <td>0</td>\n",
              "      <td>0</td>\n",
              "      <td>0</td>\n",
              "      <td>0</td>\n",
              "      <td>0</td>\n",
              "      <td>0</td>\n",
              "      <td>0</td>\n",
              "      <td>0</td>\n",
              "      <td>0</td>\n",
              "      <td>0</td>\n",
              "      <td>0</td>\n",
              "      <td>0</td>\n",
              "      <td>0</td>\n",
              "      <td>0</td>\n",
              "      <td>0</td>\n",
              "      <td>1</td>\n",
              "      <td>0</td>\n",
              "      <td>0</td>\n",
              "    </tr>\n",
              "    <tr>\n",
              "      <th>4577</th>\n",
              "      <td>121000.0</td>\n",
              "      <td>62367.0</td>\n",
              "      <td>0.0</td>\n",
              "      <td>0.0</td>\n",
              "      <td>11.14</td>\n",
              "      <td>10</td>\n",
              "      <td>1.0</td>\n",
              "      <td>777.55</td>\n",
              "      <td>25000</td>\n",
              "      <td>4.0</td>\n",
              "      <td>0.0</td>\n",
              "      <td>36</td>\n",
              "      <td>5.0</td>\n",
              "      <td>0.0</td>\n",
              "      <td>2017</td>\n",
              "      <td>0</td>\n",
              "      <td>0.077112</td>\n",
              "      <td>1</td>\n",
              "      <td>0</td>\n",
              "      <td>1</td>\n",
              "      <td>0</td>\n",
              "      <td>0</td>\n",
              "      <td>0</td>\n",
              "      <td>0</td>\n",
              "      <td>0</td>\n",
              "      <td>0</td>\n",
              "      <td>0</td>\n",
              "      <td>0</td>\n",
              "      <td>1</td>\n",
              "      <td>0</td>\n",
              "      <td>0</td>\n",
              "      <td>0</td>\n",
              "      <td>0</td>\n",
              "      <td>0</td>\n",
              "      <td>0</td>\n",
              "      <td>0</td>\n",
              "      <td>0</td>\n",
              "      <td>0</td>\n",
              "      <td>0</td>\n",
              "      <td>0</td>\n",
              "      <td>...</td>\n",
              "      <td>0</td>\n",
              "      <td>0</td>\n",
              "      <td>0</td>\n",
              "      <td>0</td>\n",
              "      <td>0</td>\n",
              "      <td>0</td>\n",
              "      <td>0</td>\n",
              "      <td>0</td>\n",
              "      <td>0</td>\n",
              "      <td>0</td>\n",
              "      <td>0</td>\n",
              "      <td>0</td>\n",
              "      <td>0</td>\n",
              "      <td>0</td>\n",
              "      <td>0</td>\n",
              "      <td>0</td>\n",
              "      <td>0</td>\n",
              "      <td>0</td>\n",
              "      <td>0</td>\n",
              "      <td>0</td>\n",
              "      <td>0</td>\n",
              "      <td>0</td>\n",
              "      <td>0</td>\n",
              "      <td>0</td>\n",
              "      <td>0</td>\n",
              "      <td>0</td>\n",
              "      <td>0</td>\n",
              "      <td>0</td>\n",
              "      <td>0</td>\n",
              "      <td>0</td>\n",
              "      <td>0</td>\n",
              "      <td>0</td>\n",
              "      <td>0</td>\n",
              "      <td>0</td>\n",
              "      <td>0</td>\n",
              "      <td>0</td>\n",
              "      <td>0</td>\n",
              "      <td>1</td>\n",
              "      <td>0</td>\n",
              "      <td>0</td>\n",
              "    </tr>\n",
              "  </tbody>\n",
              "</table>\n",
              "<p>5000 rows × 160 columns</p>\n",
              "</div>"
            ],
            "text/plain": [
              "      annual_inc  avg_cur_bal  ...  home_ownership_OWN  home_ownership_RENT\n",
              "2790     38000.0       2375.0  ...                   1                    0\n",
              "1822     55000.0      20371.0  ...                   0                    0\n",
              "2857     45000.0       2437.0  ...                   0                    1\n",
              "4776    125000.0      10340.0  ...                   0                    0\n",
              "4482     70000.0       2089.0  ...                   0                    1\n",
              "...          ...          ...  ...                 ...                  ...\n",
              "3528    260000.0      38359.0  ...                   0                    0\n",
              "3722     90000.0      31537.0  ...                   0                    0\n",
              "4405     68000.0       1849.0  ...                   0                    1\n",
              "3968     68500.0      17577.0  ...                   0                    0\n",
              "4577    121000.0      62367.0  ...                   0                    0\n",
              "\n",
              "[5000 rows x 160 columns]"
            ]
          },
          "metadata": {},
          "execution_count": 53
        }
      ]
    },
    {
      "cell_type": "markdown",
      "metadata": {
        "id": "avGD4DkzlSYc"
      },
      "source": [
        "#### 8.2\n",
        "\n",
        "Add this feature to the all-numerical model from earlier and investigate whether this leads to a significant increase in predictive accuracy."
      ]
    },
    {
      "cell_type": "code",
      "metadata": {
        "id": "uLVAEyuPlSYd",
        "colab": {
          "base_uri": "https://localhost:8080/"
        },
        "outputId": "aba16ded-902c-407a-cc67-6f0cf56f56c7"
      },
      "source": [
        "X = Data_dum.drop(columns=['loan_default']) # Features\n",
        "y = Data_dum.loan_default\n",
        "y_test, y_pred = fit_logistic_regression(X, y, split=0.3)"
      ],
      "execution_count": null,
      "outputs": [
        {
          "output_type": "stream",
          "text": [
            "Accuracy: 0.7766666666666666\n",
            "Recall: 0.06824925816023739\n",
            "F1 Score: 0.12073490813648292\n"
          ],
          "name": "stdout"
        }
      ]
    },
    {
      "cell_type": "markdown",
      "metadata": {
        "id": "e1-b6YDtxqx1"
      },
      "source": [
        "No se presenta una mejora significativa en el Accuracy agregando  las variables dummies al modelo."
      ]
    },
    {
      "cell_type": "markdown",
      "metadata": {
        "id": "GftTNHtYlSYd"
      },
      "source": [
        "**Answer:**"
      ]
    },
    {
      "cell_type": "markdown",
      "metadata": {
        "id": "NgeHFhb_lSYd"
      },
      "source": [
        "### Exercise 9: (15 mts)\n",
        "\n",
        "Investigate whether the categorical variable `job` brings any predictive value when added to the current best model. Again, you may want to use a one-hot encoding scheme."
      ]
    },
    {
      "cell_type": "markdown",
      "metadata": {
        "id": "iPJOEzmllSYe"
      },
      "source": [
        "**Answer:**"
      ]
    },
    {
      "cell_type": "code",
      "metadata": {
        "id": "64wqrzKSlSYe",
        "colab": {
          "base_uri": "https://localhost:8080/"
        },
        "outputId": "9cb3d4cf-44b0-4f00-a541-673e197904c0"
      },
      "source": [
        "cols = ['loan_default','application_type', 'grade', 'purpose', 'home_ownership']\n",
        "Data_dum_2 = pd.get_dummies(data = Data,columns=['job']) \n",
        "X = Data_dum_2.drop(columns=cols)\n",
        "y =  Data_dum_2.loan_default\n",
        "y_test, y_pred = fit_logistic_regression(X,y,split = 0.3)"
      ],
      "execution_count": null,
      "outputs": [
        {
          "output_type": "stream",
          "text": [
            "Accuracy: 0.7766666666666666\n",
            "Recall: 0.06824925816023739\n",
            "F1 Score: 0.12073490813648292\n"
          ],
          "name": "stdout"
        }
      ]
    },
    {
      "cell_type": "markdown",
      "metadata": {
        "id": "qqiWLVUfyyZl"
      },
      "source": [
        "No se presenta ninguna mejora estadisticamente significativa en modelo."
      ]
    },
    {
      "cell_type": "markdown",
      "metadata": {
        "id": "Ecwl6178lSYf"
      },
      "source": [
        "## Conclusions (5 mts)\n",
        "\n",
        "In this case, we first explored the loan dataset and found the single-variable associations between the available features and the default rate. We also discovered which features required transformations (e.g. log transform).\n",
        "\n",
        "Once we started building models, we started with very simple logistic regressions approaches – these baseline models were useful for quickly evaluating the predictive power of each individual variable. Next, we employed cross-validation approaches for building more complex models, often exploiting the interactions between the different features. Since the loan dataset contains a large number of covariates, using cross-validation was revealed to be crucial for avoiding overfitting, choosing the correct number of features and ultimately choosing an appropriate model that balanced complexity with accuracy."
      ]
    },
    {
      "cell_type": "markdown",
      "metadata": {
        "id": "nEGczAT_lSYf"
      },
      "source": [
        "## Takeaways (5 mts)\n",
        "\n",
        "Cross-validation is a robust and flexible technique for evaluating the predictive performance of statistical models. It is especially useful in big data settings where the number of features is large compared to the number of observations. When used appropriately, cross-validation is a powerful method for choosing a model with the correct complexity and best predictive performance."
      ]
    }
  ]
}