{
  "cells": [
    {
      "cell_type": "markdown",
      "source": [
        "# Flavor Recommender\n",
        "\n",
        "Create a machine learning model to predict which flavor does a person likes or prefers if the person's age and gender is given as input. Here is a sample dataset of 20 customers with their age, gender and flavor preference\n",
        "\n",
        "## Import libraries\n",
        "Import pandas and Scikit-Learn libraries to load the dataframe and and the LabelEncoder class"
      ],
      "metadata": {
        "id": "sY_Ong6SX-j3"
      }
    },
    {
      "cell_type": "code",
      "execution_count": 1,
      "metadata": {
        "colab": {
          "base_uri": "https://localhost:8080/",
          "height": 677
        },
        "id": "t5uLqvdKXrWS",
        "outputId": "69026f3a-9daf-4c47-a470-096cbd2c1f43"
      },
      "outputs": [
        {
          "output_type": "execute_result",
          "data": {
            "text/plain": [
              "    Age  Gender             Flavour\n",
              "0     6    Male           Chocolate\n",
              "1     6  Female          Strawberry\n",
              "2     7    Male           Chocolate\n",
              "3     8  Female          Strawberry\n",
              "4    11    Male        Butterscotch\n",
              "5    10  Female        Butterscotch\n",
              "6    12    Male        Butterscotch\n",
              "7    14  Female             Vanilla\n",
              "8    15    Male               Mango\n",
              "9    15  Female             Vanilla\n",
              "10   17    Male               Mango\n",
              "11   16  Female        Butterscotch\n",
              "12   19    Male  Almond & Chocolate\n",
              "13   18  Female        Butterscotch\n",
              "14   20    Male  Almond & Chocolate\n",
              "15   20  Female        Butterscotch\n",
              "16   21    Male               Coffe\n",
              "17   22  Female               Coffe\n",
              "18   24    Male  Almond & Chocolate\n",
              "19   24  Female               Coffe"
            ],
            "text/html": [
              "\n",
              "  <div id=\"df-09b60851-64d3-499d-ba09-bb906a8db0b3\">\n",
              "    <div class=\"colab-df-container\">\n",
              "      <div>\n",
              "<style scoped>\n",
              "    .dataframe tbody tr th:only-of-type {\n",
              "        vertical-align: middle;\n",
              "    }\n",
              "\n",
              "    .dataframe tbody tr th {\n",
              "        vertical-align: top;\n",
              "    }\n",
              "\n",
              "    .dataframe thead th {\n",
              "        text-align: right;\n",
              "    }\n",
              "</style>\n",
              "<table border=\"1\" class=\"dataframe\">\n",
              "  <thead>\n",
              "    <tr style=\"text-align: right;\">\n",
              "      <th></th>\n",
              "      <th>Age</th>\n",
              "      <th>Gender</th>\n",
              "      <th>Flavour</th>\n",
              "    </tr>\n",
              "  </thead>\n",
              "  <tbody>\n",
              "    <tr>\n",
              "      <th>0</th>\n",
              "      <td>6</td>\n",
              "      <td>Male</td>\n",
              "      <td>Chocolate</td>\n",
              "    </tr>\n",
              "    <tr>\n",
              "      <th>1</th>\n",
              "      <td>6</td>\n",
              "      <td>Female</td>\n",
              "      <td>Strawberry</td>\n",
              "    </tr>\n",
              "    <tr>\n",
              "      <th>2</th>\n",
              "      <td>7</td>\n",
              "      <td>Male</td>\n",
              "      <td>Chocolate</td>\n",
              "    </tr>\n",
              "    <tr>\n",
              "      <th>3</th>\n",
              "      <td>8</td>\n",
              "      <td>Female</td>\n",
              "      <td>Strawberry</td>\n",
              "    </tr>\n",
              "    <tr>\n",
              "      <th>4</th>\n",
              "      <td>11</td>\n",
              "      <td>Male</td>\n",
              "      <td>Butterscotch</td>\n",
              "    </tr>\n",
              "    <tr>\n",
              "      <th>5</th>\n",
              "      <td>10</td>\n",
              "      <td>Female</td>\n",
              "      <td>Butterscotch</td>\n",
              "    </tr>\n",
              "    <tr>\n",
              "      <th>6</th>\n",
              "      <td>12</td>\n",
              "      <td>Male</td>\n",
              "      <td>Butterscotch</td>\n",
              "    </tr>\n",
              "    <tr>\n",
              "      <th>7</th>\n",
              "      <td>14</td>\n",
              "      <td>Female</td>\n",
              "      <td>Vanilla</td>\n",
              "    </tr>\n",
              "    <tr>\n",
              "      <th>8</th>\n",
              "      <td>15</td>\n",
              "      <td>Male</td>\n",
              "      <td>Mango</td>\n",
              "    </tr>\n",
              "    <tr>\n",
              "      <th>9</th>\n",
              "      <td>15</td>\n",
              "      <td>Female</td>\n",
              "      <td>Vanilla</td>\n",
              "    </tr>\n",
              "    <tr>\n",
              "      <th>10</th>\n",
              "      <td>17</td>\n",
              "      <td>Male</td>\n",
              "      <td>Mango</td>\n",
              "    </tr>\n",
              "    <tr>\n",
              "      <th>11</th>\n",
              "      <td>16</td>\n",
              "      <td>Female</td>\n",
              "      <td>Butterscotch</td>\n",
              "    </tr>\n",
              "    <tr>\n",
              "      <th>12</th>\n",
              "      <td>19</td>\n",
              "      <td>Male</td>\n",
              "      <td>Almond &amp; Chocolate</td>\n",
              "    </tr>\n",
              "    <tr>\n",
              "      <th>13</th>\n",
              "      <td>18</td>\n",
              "      <td>Female</td>\n",
              "      <td>Butterscotch</td>\n",
              "    </tr>\n",
              "    <tr>\n",
              "      <th>14</th>\n",
              "      <td>20</td>\n",
              "      <td>Male</td>\n",
              "      <td>Almond &amp; Chocolate</td>\n",
              "    </tr>\n",
              "    <tr>\n",
              "      <th>15</th>\n",
              "      <td>20</td>\n",
              "      <td>Female</td>\n",
              "      <td>Butterscotch</td>\n",
              "    </tr>\n",
              "    <tr>\n",
              "      <th>16</th>\n",
              "      <td>21</td>\n",
              "      <td>Male</td>\n",
              "      <td>Coffe</td>\n",
              "    </tr>\n",
              "    <tr>\n",
              "      <th>17</th>\n",
              "      <td>22</td>\n",
              "      <td>Female</td>\n",
              "      <td>Coffe</td>\n",
              "    </tr>\n",
              "    <tr>\n",
              "      <th>18</th>\n",
              "      <td>24</td>\n",
              "      <td>Male</td>\n",
              "      <td>Almond &amp; Chocolate</td>\n",
              "    </tr>\n",
              "    <tr>\n",
              "      <th>19</th>\n",
              "      <td>24</td>\n",
              "      <td>Female</td>\n",
              "      <td>Coffe</td>\n",
              "    </tr>\n",
              "  </tbody>\n",
              "</table>\n",
              "</div>\n",
              "      <button class=\"colab-df-convert\" onclick=\"convertToInteractive('df-09b60851-64d3-499d-ba09-bb906a8db0b3')\"\n",
              "              title=\"Convert this dataframe to an interactive table.\"\n",
              "              style=\"display:none;\">\n",
              "        \n",
              "  <svg xmlns=\"http://www.w3.org/2000/svg\" height=\"24px\"viewBox=\"0 0 24 24\"\n",
              "       width=\"24px\">\n",
              "    <path d=\"M0 0h24v24H0V0z\" fill=\"none\"/>\n",
              "    <path d=\"M18.56 5.44l.94 2.06.94-2.06 2.06-.94-2.06-.94-.94-2.06-.94 2.06-2.06.94zm-11 1L8.5 8.5l.94-2.06 2.06-.94-2.06-.94L8.5 2.5l-.94 2.06-2.06.94zm10 10l.94 2.06.94-2.06 2.06-.94-2.06-.94-.94-2.06-.94 2.06-2.06.94z\"/><path d=\"M17.41 7.96l-1.37-1.37c-.4-.4-.92-.59-1.43-.59-.52 0-1.04.2-1.43.59L10.3 9.45l-7.72 7.72c-.78.78-.78 2.05 0 2.83L4 21.41c.39.39.9.59 1.41.59.51 0 1.02-.2 1.41-.59l7.78-7.78 2.81-2.81c.8-.78.8-2.07 0-2.86zM5.41 20L4 18.59l7.72-7.72 1.47 1.35L5.41 20z\"/>\n",
              "  </svg>\n",
              "      </button>\n",
              "      \n",
              "  <style>\n",
              "    .colab-df-container {\n",
              "      display:flex;\n",
              "      flex-wrap:wrap;\n",
              "      gap: 12px;\n",
              "    }\n",
              "\n",
              "    .colab-df-convert {\n",
              "      background-color: #E8F0FE;\n",
              "      border: none;\n",
              "      border-radius: 50%;\n",
              "      cursor: pointer;\n",
              "      display: none;\n",
              "      fill: #1967D2;\n",
              "      height: 32px;\n",
              "      padding: 0 0 0 0;\n",
              "      width: 32px;\n",
              "    }\n",
              "\n",
              "    .colab-df-convert:hover {\n",
              "      background-color: #E2EBFA;\n",
              "      box-shadow: 0px 1px 2px rgba(60, 64, 67, 0.3), 0px 1px 3px 1px rgba(60, 64, 67, 0.15);\n",
              "      fill: #174EA6;\n",
              "    }\n",
              "\n",
              "    [theme=dark] .colab-df-convert {\n",
              "      background-color: #3B4455;\n",
              "      fill: #D2E3FC;\n",
              "    }\n",
              "\n",
              "    [theme=dark] .colab-df-convert:hover {\n",
              "      background-color: #434B5C;\n",
              "      box-shadow: 0px 1px 3px 1px rgba(0, 0, 0, 0.15);\n",
              "      filter: drop-shadow(0px 1px 2px rgba(0, 0, 0, 0.3));\n",
              "      fill: #FFFFFF;\n",
              "    }\n",
              "  </style>\n",
              "\n",
              "      <script>\n",
              "        const buttonEl =\n",
              "          document.querySelector('#df-09b60851-64d3-499d-ba09-bb906a8db0b3 button.colab-df-convert');\n",
              "        buttonEl.style.display =\n",
              "          google.colab.kernel.accessAllowed ? 'block' : 'none';\n",
              "\n",
              "        async function convertToInteractive(key) {\n",
              "          const element = document.querySelector('#df-09b60851-64d3-499d-ba09-bb906a8db0b3');\n",
              "          const dataTable =\n",
              "            await google.colab.kernel.invokeFunction('convertToInteractive',\n",
              "                                                     [key], {});\n",
              "          if (!dataTable) return;\n",
              "\n",
              "          const docLinkHtml = 'Like what you see? Visit the ' +\n",
              "            '<a target=\"_blank\" href=https://colab.research.google.com/notebooks/data_table.ipynb>data table notebook</a>'\n",
              "            + ' to learn more about interactive tables.';\n",
              "          element.innerHTML = '';\n",
              "          dataTable['output_type'] = 'display_data';\n",
              "          await google.colab.output.renderOutput(dataTable, element);\n",
              "          const docLink = document.createElement('div');\n",
              "          docLink.innerHTML = docLinkHtml;\n",
              "          element.appendChild(docLink);\n",
              "        }\n",
              "      </script>\n",
              "    </div>\n",
              "  </div>\n",
              "  "
            ]
          },
          "metadata": {},
          "execution_count": 1
        }
      ],
      "source": [
        "import pandas\n",
        "df = pandas.read_csv('/content/flavour.csv')\n",
        "df"
      ]
    },
    {
      "cell_type": "code",
      "execution_count": 2,
      "metadata": {
        "scrolled": true,
        "colab": {
          "base_uri": "https://localhost:8080/"
        },
        "id": "zs0aFDywXrWU",
        "outputId": "7fc9dc8a-2c15-467a-e662-e9354d24fb0f"
      },
      "outputs": [
        {
          "output_type": "execute_result",
          "data": {
            "text/plain": [
              "LabelEncoder()"
            ]
          },
          "metadata": {},
          "execution_count": 2
        }
      ],
      "source": [
        "from sklearn.preprocessing import LabelEncoder\n",
        "encoder = LabelEncoder()\n",
        "encoder.fit(['Male', 'Female'])"
      ]
    },
    {
      "cell_type": "code",
      "execution_count": 3,
      "metadata": {
        "colab": {
          "base_uri": "https://localhost:8080/"
        },
        "id": "6IftYd6ZXrWW",
        "outputId": "b5aec670-cbc5-4422-80b7-928728f0cd8b"
      },
      "outputs": [
        {
          "output_type": "execute_result",
          "data": {
            "text/plain": [
              "0     1\n",
              "1     0\n",
              "2     1\n",
              "3     0\n",
              "4     1\n",
              "5     0\n",
              "6     1\n",
              "7     0\n",
              "8     1\n",
              "9     0\n",
              "10    1\n",
              "11    0\n",
              "12    1\n",
              "13    0\n",
              "14    1\n",
              "15    0\n",
              "16    1\n",
              "17    0\n",
              "18    1\n",
              "19    0\n",
              "Name: Gender, dtype: int64"
            ]
          },
          "metadata": {},
          "execution_count": 3
        }
      ],
      "source": [
        "df['Gender'] = encoder.transform(df['Gender'])\n",
        "df['Gender']"
      ]
    },
    {
      "cell_type": "markdown",
      "source": [
        "## Split the data in X: features and Y: Labels"
      ],
      "metadata": {
        "id": "uTaJ2x8pZdPz"
      }
    },
    {
      "cell_type": "code",
      "execution_count": 4,
      "metadata": {
        "id": "mDVSuIA1XrWY"
      },
      "outputs": [],
      "source": [
        "X = df.drop(columns=['Flavour'])\n",
        "y = df.drop(columns=['Age', 'Gender'])"
      ]
    },
    {
      "cell_type": "markdown",
      "source": [
        "# Import and create a DecisionTreeClassifier from Scikit-Learn"
      ],
      "metadata": {
        "id": "0NGGDlkBZnp2"
      }
    },
    {
      "cell_type": "code",
      "execution_count": 5,
      "metadata": {
        "colab": {
          "base_uri": "https://localhost:8080/"
        },
        "id": "NZq4F_iQXrWZ",
        "outputId": "2853601a-dc48-4325-e050-8311c8ffddee"
      },
      "outputs": [
        {
          "output_type": "execute_result",
          "data": {
            "text/plain": [
              "DecisionTreeClassifier()"
            ]
          },
          "metadata": {},
          "execution_count": 5
        }
      ],
      "source": [
        "from sklearn.tree import DecisionTreeClassifier\n",
        "model = DecisionTreeClassifier()\n",
        "model.fit(X, y)"
      ]
    },
    {
      "cell_type": "markdown",
      "source": [
        "## Prediction:\n",
        "Use the trained model to predict the recommended flavor for a 18 years old Male "
      ],
      "metadata": {
        "id": "gwE8vzRWaahg"
      }
    },
    {
      "cell_type": "code",
      "execution_count": null,
      "metadata": {
        "id": "03PSFy1RXrWb",
        "outputId": "0fd46d45-19bc-42a6-f544-bd45774a24e9"
      },
      "outputs": [
        {
          "data": {
            "text/plain": [
              "array(['Mango'], dtype=object)"
            ]
          },
          "execution_count": 18,
          "metadata": {},
          "output_type": "execute_result"
        }
      ],
      "source": [
        "age = 18\n",
        "gender = encoder.transform(['Male'])\n",
        "model.predict([ [age, gender] ])"
      ]
    },
    {
      "cell_type": "markdown",
      "source": [
        "# Generalize a way to input age and gender to use the classifier"
      ],
      "metadata": {
        "id": "jmTND9k-axM-"
      }
    },
    {
      "cell_type": "code",
      "execution_count": 7,
      "metadata": {
        "id": "ny_oFyWpXrWc"
      },
      "outputs": [],
      "source": [
        "def flav_pred():\n",
        "    age = int(input('Age:'))\n",
        "    gen = input('Gender:').capitalize()\n",
        "    gender = encoder.transform([gen])\n",
        "    flav = model.predict([[age, gender]])\n",
        "    print('Recommended Flavour:', flav[0])"
      ]
    },
    {
      "cell_type": "code",
      "execution_count": 8,
      "metadata": {
        "colab": {
          "base_uri": "https://localhost:8080/"
        },
        "id": "E7vkGZeGXrWd",
        "outputId": "7d00564f-9db4-44e7-f26b-29b42f3ec34e"
      },
      "outputs": [
        {
          "output_type": "stream",
          "name": "stdout",
          "text": [
            "Age:37\n",
            "Gender:Male\n",
            "Recommended Flavour: Almond & Chocolate\n"
          ]
        },
        {
          "output_type": "stream",
          "name": "stderr",
          "text": [
            "/usr/local/lib/python3.7/dist-packages/sklearn/base.py:451: UserWarning: X does not have valid feature names, but DecisionTreeClassifier was fitted with feature names\n",
            "  \"X does not have valid feature names, but\"\n"
          ]
        }
      ],
      "source": [
        "flav_pred()"
      ]
    }
  ],
  "metadata": {
    "kernelspec": {
      "display_name": "Python 3",
      "language": "python",
      "name": "python3"
    },
    "language_info": {
      "codemirror_mode": {
        "name": "ipython",
        "version": 3
      },
      "file_extension": ".py",
      "mimetype": "text/x-python",
      "name": "python",
      "nbconvert_exporter": "python",
      "pygments_lexer": "ipython3",
      "version": "3.8.5"
    },
    "colab": {
      "name": "FlavourRecommender.ipynb",
      "provenance": [],
      "collapsed_sections": []
    }
  },
  "nbformat": 4,
  "nbformat_minor": 0
}